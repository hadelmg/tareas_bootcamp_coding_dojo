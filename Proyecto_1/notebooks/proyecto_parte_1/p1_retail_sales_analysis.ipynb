{
 "cells": [
  {
   "cell_type": "markdown",
   "metadata": {},
   "source": [
    "# Análisis y Predicción de Ventas en una Tienda de Retail (Core)"
   ]
  },
  {
   "cell_type": "markdown",
   "metadata": {},
   "source": [
    "# PARTE 1"
   ]
  },
  {
   "cell_type": "markdown",
   "metadata": {},
   "source": [
    "## Instrucciones"
   ]
  },
  {
   "cell_type": "markdown",
   "metadata": {},
   "source": [
    "### Introducción al Proyecto.\n",
    "\n",
    "En este proyecto de curso, desarrollaremos un análisis integral de un conjunto de datos de ventas de una tienda de retail. El objetivo es que los estudiantes apliquen lo aprendido en las diferentes secciones del curso, desde la manipulación básica de datos con NumPy, pasando por el análisis y visualización de datos con Pandas, hasta el uso de técnicas de machine learning para realizar predicciones. Este proyecto será una excelente adición al portafolio de los estudiantes y les permitirá demostrar su competencia en varias áreas clave de la ciencia de datos.\n",
    "\n",
    "### Dataset\n",
    "\n",
    "Para este proyecto, utilizaremos un dataset reciente de Kaggle titulado «Retail Sales Dataset» (2023-2024). Este dataset contiene información detallada sobre las ventas diarias de diferentes productos en una tienda. Puedes descargar el dataset desde Kaggle.\n",
    "\n",
    "### Parte 1: Análisis Básico con NumPy\n",
    "\n",
    "En esta primera parte del proyecto, los estudiantes realizarán un análisis preliminar del dataset utilizando NumPy. El objetivo es familiarizarse con los datos y realizar operaciones básicas de manipulación y análisis.\n",
    "\n",
    "### Instrucciones:\n",
    "\n",
    "1. Configuración Inicial del Proyecto:\n",
    "   * Crea un repositorio en GitHub para tu proyecto.\n",
    "   * Configura dos ramas en tu repositorio: main y development.\n",
    "   * Agrega un archivo README.md con una descripción del proyecto, instrucciones de instalación y uso.\n",
    "2. Carga y Preprocesamiento de Datos:\n",
    "   * Carga los datos del archivo CSV utilizando NumPy.\n",
    "   * Realiza un preprocesamiento básico para asegurarte de que los datos estén limpios y listos para su análisis.\n",
    "3. Exploración de Datos:\n",
    "   * Calcula el total de ventas por categoría de producto.\n",
    "   * Calcula el promedio de ventas diarias por categoría de producto.\n",
    "   * Identifica las categorías de productos con mayores y menores ventas.\n",
    "4. Manipulación de Datos:\n",
    "   * Filtra los datos para mostrar solo las ventas de una categoría de producto específica.\n",
    "   * Realiza operaciones de suma, resta, multiplicación y división en los datos para obtener estadísticas adicionales."
   ]
  },
  {
   "cell_type": "markdown",
   "metadata": {},
   "source": [
    "## Sobre los campos del dataset"
   ]
  },
  {
   "cell_type": "markdown",
   "metadata": {},
   "source": [
    "About this file\n",
    "\n",
    "1. **Transaction ID:** A unique identifier for each transaction, allowing tracking and reference.\n",
    "2. **Date:** The date when the transaction occurred, providing insights into sales trends over time.\n",
    "3. **Customer ID:** A unique identifier for each customer, enabling customer-centric analysis.\n",
    "4. **Gender:** The gender of the customer (Male/Female), offering insights into gender-based purchasing patterns.\n",
    "5. **Age:** The age of the customer, facilitating segmentation and exploration of age-related influences.\n",
    "6. **Product Category:** The category of the purchased product (e.g., Electronics, Clothing, Beauty), helping understand product preferences.\n",
    "7. **Quantity:** The number of units of the product purchased, contributing to insights on purchase volumes.\n",
    "8. **Price per Unit:** The price of one unit of the product, aiding in calculations related to total spending.\n",
    "9. **Total Amount:** The total monetary value of the transaction, showcasing the financial impact of each purchase.\n",
    "\n",
    "\n",
    "*Traducción de los campos del dataset*\n",
    "1. **Transaction ID:** Un identificador único para cada transacción, que permite su seguimiento y referencia.\n",
    "2. **Date:** La fecha en que se produjo la transacción, lo que permite conocer las tendencias de las ventas a lo largo del tiempo.\n",
    "3. **Customer ID:** Un identificador único para cada cliente, que permite un análisis centrado en el cliente.\n",
    "4. **Gender:** El sexo del cliente (hombre/mujer), que ofrece información sobre las pautas de compra en función del sexo \n",
    "5. **Age:** La edad del cliente, que facilita la segmentación y la exploración de las influencias relacionadas con la edad.\n",
    "6. **Product Category:** La categoría del producto comprado (por ejemplo, electrónica, ropa, belleza), que ayuda a comprender las preferencias de producto.\n",
    "7. **Quantity:** El número de unidades del producto comprado, lo que contribuye a comprender los volúmenes de compra.\n",
    "8. **Price per Unit:** El precio de una unidad del producto, lo que ayuda a realizar cálculos relacionados con el gasto total.\n",
    "9. **Total Amount:** El valor monetario total de la transacción, que muestra el impacto financiero de cada compra.\n",
    "\n",
    "Cada columna de este conjunto de datos desempeña un papel fundamental a la hora de desentrañar la dinámica de las operaciones minoristas y el comportamiento de los clientes. Al explorar y analizar estos atributos, descubrirá tendencias, patrones y correlaciones que arrojan luz sobre la compleja interacción entre clientes y productos en un entorno minorista.\n",
    "\n",
    "1. ID de transacción: \n",
    "2. Fecha:\n",
    "3. ID de cliente: \n",
    "4. Sexo: \n",
    "5. Edad: \n",
    "6. Categoría del producto: \n",
    "7. Cantidad:\n",
    "8. Precio por Unidad: \n",
    "9. Importe total: \n"
   ]
  },
  {
   "cell_type": "markdown",
   "metadata": {},
   "source": [
    "## Desarrollo"
   ]
  },
  {
   "cell_type": "markdown",
   "metadata": {},
   "source": [
    "### 1. Configuración Inicial del Proyecto:\n",
    "   * Crea un repositorio en GitHub para tu proyecto.\n",
    "   * Configura dos ramas en tu repositorio: main y development.\n",
    "   * Agrega un archivo README.md con una descripción del proyecto, instrucciones de instalación y uso."
   ]
  },
  {
   "cell_type": "markdown",
   "metadata": {},
   "source": [
    "Retail Sales Analysis\n",
    "\n",
    "Este proyecto analiza y predice las ventas de una tienda de retail utilizando técnicas de ciencia de datos.\n",
    "\n",
    "Estructura del Proyecto\n",
    "\n",
    "- `data/`: Contiene los archivos de datos.\n",
    "- `notebooks/`: Contiene los notebooks de Jupyter para el análisis.\n",
    "- `src/`: Contiene el código fuente del proyecto.\n",
    "- `README.md`: Este archivo.\n",
    "\n",
    "Instrucciones de Instalación\n",
    "\n",
    "1. Clona el repositorio: `git clone https://github.com/tu_usuario/retail-sales-analysis.git`\n",
    "2. Instala las dependencias: `pip install -r requirements.txt`\n",
    "\n",
    " Uso\n",
    "\n",
    "Ejecuta los notebooks de Jupyter en la carpeta `notebooks` para realizar el análisis de los datos.\n"
   ]
  },
  {
   "cell_type": "markdown",
   "metadata": {},
   "source": [
    "### 2. Carga y Preprocesamiento de Datos:\n",
    "   * Carga los datos del archivo CSV utilizando NumPy.\n",
    "   * Realiza un preprocesamiento básico para asegurarte de que los datos estén limpios y listos para su análisis."
   ]
  },
  {
   "cell_type": "markdown",
   "metadata": {},
   "source": [
    "#### **Carga los datos del archivo CSV utilizando NumPy.***"
   ]
  },
  {
   "cell_type": "code",
   "execution_count": 1,
   "metadata": {},
   "outputs": [],
   "source": [
    "import numpy as np"
   ]
  },
  {
   "cell_type": "code",
   "execution_count": 2,
   "metadata": {},
   "outputs": [
    {
     "name": "stdout",
     "output_type": "stream",
     "text": [
      "Columnas del dataset: ('Transaction_ID', 'Date', 'Customer_ID', 'Gender', 'Age', 'Product_Category', 'Quantity', 'Price_per_Unit', 'Total_Amount')\n",
      "[(1, '2023-11-24', 'CUST001', 'Male', 34, 'Beauty', 3,  50,  150)\n",
      " (2, '2023-02-27', 'CUST002', 'Female', 26, 'Clothing', 2, 500, 1000)\n",
      " (3, '2023-01-13', 'CUST003', 'Male', 50, 'Electronics', 1,  30,   30)\n",
      " (4, '2023-05-21', 'CUST004', 'Male', 37, 'Clothing', 1, 500,  500)\n",
      " (5, '2023-05-06', 'CUST005', 'Male', 30, 'Beauty', 2,  50,  100)]\n"
     ]
    }
   ],
   "source": [
    "def cargar_datos(ruta_archivo):\n",
    "    # Carga los datos del archivo CSV utilizando NumPy, incluyendo los nombres de las columnas\n",
    "    datos = np.genfromtxt(ruta_archivo, delimiter=',', names=True, dtype=None, encoding='utf-8')\n",
    "    return datos\n",
    "\n",
    "if __name__ == \"__main__\":\n",
    "    ruta_archivo = r'C:\\Users\\GIGABYTE\\Documents\\tareas_bootcamp_coding_dojo\\mod_1_data_fundamentals\\2_proyecto_retail_sales_analysis\\data\\retail_sales.csv'\n",
    "    datos = cargar_datos(ruta_archivo)\n",
    "    \n",
    "    # Imprimir los nombres de las columnas\n",
    "    print(\"Columnas del dataset:\", datos.dtype.names)\n",
    "    \n",
    "    # Imprimir los primeros registros para verificar\n",
    "    print(datos[:5])"
   ]
  },
  {
   "cell_type": "markdown",
   "metadata": {},
   "source": [
    "#### **Realiza un preprocesamiento básico para asegurarte de que los datos estén limpios y listos para su análisis.**"
   ]
  },
  {
   "cell_type": "code",
   "execution_count": 3,
   "metadata": {},
   "outputs": [
    {
     "name": "stdout",
     "output_type": "stream",
     "text": [
      "Transaction_ID: int64\n",
      "Date: <U10\n",
      "Customer_ID: <U8\n",
      "Gender: <U6\n",
      "Age: int64\n",
      "Product_Category: <U11\n",
      "Quantity: int64\n",
      "Price_per_Unit: int64\n",
      "Total_Amount: int64\n"
     ]
    }
   ],
   "source": [
    "# Mostrar los nombres de las columnas y sus tipos de datos\n",
    "for nombre_columna in datos.dtype.names:\n",
    "    tipo_actual = datos[nombre_columna].dtype\n",
    "    print(f\"{nombre_columna}: {tipo_actual}\")\n"
   ]
  },
  {
   "cell_type": "code",
   "execution_count": 4,
   "metadata": {},
   "outputs": [
    {
     "name": "stdout",
     "output_type": "stream",
     "text": [
      "[(1, '2023-11-24', 'cust001', 'male', 34, 'beauty', 3,  50,  150)\n",
      " (2, '2023-02-27', 'cust002', 'female', 26, 'clothing', 2, 500, 1000)\n",
      " (3, '2023-01-13', 'cust003', 'male', 50, 'electronics', 1,  30,   30)\n",
      " (4, '2023-05-21', 'cust004', 'male', 37, 'clothing', 1, 500,  500)\n",
      " (5, '2023-05-06', 'cust005', 'male', 30, 'beauty', 2,  50,  100)]\n"
     ]
    }
   ],
   "source": [
    "# Limpieza básica: convertir cadenas a minúsculas\n",
    "for campo in ['Date','Customer_ID', 'Gender', 'Product_Category']:\n",
    "    if campo in datos.dtype.names:\n",
    "        # Convertir cada cadena en la columna a minúsculas\n",
    "        datos[campo] = np.char.lower(datos[campo])\n",
    "\n",
    "# Mostrar el estado final del dataset\n",
    "print(datos[:5])"
   ]
  },
  {
   "cell_type": "code",
   "execution_count": 5,
   "metadata": {},
   "outputs": [
    {
     "name": "stdout",
     "output_type": "stream",
     "text": [
      "No hay valores nulos en la columna Transaction_ID.\n",
      "No hay valores nulos en la columna Age.\n",
      "No hay valores nulos en la columna Quantity.\n",
      "No hay valores nulos en la columna Price_per_Unit.\n",
      "No hay valores nulos en la columna Total_Amount.\n"
     ]
    }
   ],
   "source": [
    "# Lista de columnas numéricas que se deben validar de tipo entero\n",
    "col_num_a_validar = ['Transaction_ID', 'Age', 'Quantity', 'Price_per_Unit', 'Total_Amount']\n",
    "\n",
    "# Verificación de valores nulos en columnas numéricas específicas\n",
    "for campo in col_num_a_validar:\n",
    "    if campo in datos.dtype.names:  # Verifica que la columna exista en el dataset\n",
    "        # Verificamos si el tipo de dato es numérico (entero)\n",
    "        if np.issubdtype(datos[campo].dtype, np.integer):  # Verifica si es de tipo entero\n",
    "            # Dado que no podemos tener np.nan en enteros, podemos verificar un valor específico que represente \"nulo\" \n",
    "            cantidad_nulos = np.sum(datos[campo] < 0)\n",
    "            if cantidad_nulos > 0:\n",
    "                print(f\"Hay {cantidad_nulos} valores nulos en la columna {campo}.\")\n",
    "            else:\n",
    "                print(f\"No hay valores nulos en la columna {campo}.\")\n",
    "    else:\n",
    "        print(f\"La columna {campo} no existe en el dataset.\")\n"
   ]
  },
  {
   "cell_type": "code",
   "execution_count": 6,
   "metadata": {},
   "outputs": [
    {
     "name": "stdout",
     "output_type": "stream",
     "text": [
      "No hay valores nulos en la columna Date.\n",
      "No hay valores nulos en la columna Customer_ID.\n",
      "No hay valores nulos en la columna Gender.\n",
      "No hay valores nulos en la columna Product_Category.\n"
     ]
    }
   ],
   "source": [
    "\n",
    "# Lista de columnas que se deben validar de tipo cade\n",
    "columnas_a_validar = ['Date', 'Customer_ID', 'Gender', 'Product_Category']\n",
    "\n",
    "# Verificación de valores nulos en columnas específicas de tipo cadena\n",
    "for campo in columnas_a_validar:\n",
    "    if campo in datos.dtype.names:  # Verifica que la columna exista en el dataset\n",
    "        # Verificamos si el tipo de dato es de cadena\n",
    "        if datos[campo].dtype.kind == 'U':  # 'U' significa tipo de cadena en NumPy\n",
    "            # Verificamos si hay valores nulos (en este caso, verificamos cadenas vacías)\n",
    "            valores_nulos = np.any(datos[campo] == '')  # Comprueba si hay cadenas vacías\n",
    "            if valores_nulos:\n",
    "                print(f\"Hay valores nulos en la columna {campo}.\")\n",
    "            else:\n",
    "                print(f\"No hay valores nulos en la columna {campo}.\")\n",
    "    else:\n",
    "        print(f\"La columna {campo} no existe en el dataset.\")\n"
   ]
  },
  {
   "cell_type": "markdown",
   "metadata": {},
   "source": [
    "### 3. Exploración de Datos:\n",
    "   * Calcula el total de ventas por categoría de producto.\n",
    "   * Calcula el promedio de ventas diarias por categoría de producto.\n",
    "   * Identifica las categorías de productos con mayores y menores ventas.\n"
   ]
  },
  {
   "cell_type": "markdown",
   "metadata": {},
   "source": [
    "#### **Calcular el total de ventas por categoría de producto**"
   ]
  },
  {
   "cell_type": "code",
   "execution_count": 7,
   "metadata": {},
   "outputs": [
    {
     "name": "stdout",
     "output_type": "stream",
     "text": [
      "Total de Ventas por Categoría de Producto:\n",
      "beauty: 143515\n",
      "clothing: 155580\n",
      "electronics: 156905\n"
     ]
    }
   ],
   "source": [
    "categorias_unicas = np.unique(datos['Product_Category'])\n",
    "total_ventas_por_categoria = {}\n",
    "\n",
    "for categoria in categorias_unicas:\n",
    "    total_ventas = np.sum(datos[datos['Product_Category'] == categoria]['Total_Amount'])\n",
    "    total_ventas_por_categoria[categoria] = total_ventas\n",
    "\n",
    "print(\"Total de Ventas por Categoría de Producto:\")\n",
    "for categoria, total in total_ventas_por_categoria.items():\n",
    "    print(f\"{categoria}: {total}\")"
   ]
  },
  {
   "cell_type": "markdown",
   "metadata": {},
   "source": [
    "#### **Calcular el promedio de ventas diarias por categoría de producto**"
   ]
  },
  {
   "cell_type": "code",
   "execution_count": 8,
   "metadata": {},
   "outputs": [
    {
     "name": "stdout",
     "output_type": "stream",
     "text": [
      "\n",
      "Promedio de Ventas Diarias por Categoría de Producto:\n",
      "beauty: 415.9855072463768\n",
      "clothing: 450.95652173913044\n",
      "electronics: 454.7971014492754\n"
     ]
    }
   ],
   "source": [
    "# Convertir las fechas a un formato numérico para el cálculo\n",
    "fechas_unicas = np.unique(datos['Date'])\n",
    "ventas_diarias_por_categoria = {}\n",
    "\n",
    "for categoria in categorias_unicas:\n",
    "    ventas_por_fecha = {}\n",
    "    for fecha in fechas_unicas:\n",
    "        total_ventas_dia = np.sum(datos[(datos['Product_Category'] == categoria) & (datos['Date'] == fecha)]['Total_Amount'])\n",
    "        ventas_por_fecha[fecha] = total_ventas_dia\n",
    "\n",
    "    promedio_ventas_diarias = np.mean(list(ventas_por_fecha.values()))\n",
    "    ventas_diarias_por_categoria[categoria] = promedio_ventas_diarias\n",
    "\n",
    "print(\"\\nPromedio de Ventas Diarias por Categoría de Producto:\")\n",
    "for categoria, promedio in ventas_diarias_por_categoria.items():\n",
    "    print(f\"{categoria}: {promedio}\")\n"
   ]
  },
  {
   "cell_type": "markdown",
   "metadata": {},
   "source": [
    "#### **Identificar las categorías de productos con mayores y menores ventas**"
   ]
  },
  {
   "cell_type": "code",
   "execution_count": 9,
   "metadata": {},
   "outputs": [
    {
     "name": "stdout",
     "output_type": "stream",
     "text": [
      "\n",
      "Categoría con mayores ventas: electronics - Total: 156905\n",
      "Categoría con menores ventas: beauty - Total: 143515\n"
     ]
    }
   ],
   "source": [
    "categoria_mayor_venta = max(total_ventas_por_categoria, key=total_ventas_por_categoria.get)\n",
    "categoria_menor_venta = min(total_ventas_por_categoria, key=total_ventas_por_categoria.get)\n",
    "\n",
    "print(f\"\\nCategoría con mayores ventas: {categoria_mayor_venta} - Total: {total_ventas_por_categoria[categoria_mayor_venta]}\")\n",
    "print(f\"Categoría con menores ventas: {categoria_menor_venta} - Total: {total_ventas_por_categoria[categoria_menor_venta]}\")"
   ]
  },
  {
   "cell_type": "markdown",
   "metadata": {},
   "source": [
    "### 4. Manipulación de Datos:\n",
    "   * Filtra los datos para mostrar solo las ventas de una categoría de producto específica.\n",
    "   * Realiza operaciones de suma, resta, multiplicación y división en los datos para obtener estadísticas adicionales."
   ]
  },
  {
   "cell_type": "markdown",
   "metadata": {},
   "source": [
    "#### **Filtrar los datos para mostrar solo las ventas de una categoría de producto específica**"
   ]
  },
  {
   "cell_type": "code",
   "execution_count": 10,
   "metadata": {},
   "outputs": [
    {
     "name": "stdout",
     "output_type": "stream",
     "text": [
      "Ventas para la categoría 'Electronics':\n",
      "[]\n"
     ]
    }
   ],
   "source": [
    "categoria_especifica = 'Electronics'  \n",
    "ventas_categoria_especifica = datos[datos['Product_Category'] == categoria_especifica]\n",
    "\n",
    "print(f\"Ventas para la categoría '{categoria_especifica}':\")\n",
    "print(ventas_categoria_especifica)\n"
   ]
  },
  {
   "cell_type": "markdown",
   "metadata": {},
   "source": [
    "#### **Realizar operaciones de suma, resta, multiplicación y división en los datos**"
   ]
  },
  {
   "cell_type": "code",
   "execution_count": 11,
   "metadata": {},
   "outputs": [
    {
     "name": "stdout",
     "output_type": "stream",
     "text": [
      "Total de ventas: 456000\n"
     ]
    }
   ],
   "source": [
    "# Suma total de ventas\n",
    "ventas_totales = np.sum(datos['Total_Amount'])\n",
    "print(f\"Total de ventas: {ventas_totales}\")"
   ]
  },
  {
   "cell_type": "code",
   "execution_count": 12,
   "metadata": {},
   "outputs": [
    {
     "name": "stdout",
     "output_type": "stream",
     "text": [
      "Ventas totales para la categoría 'beauty': 143515\n",
      "Ventas totales para la categoría 'clothing': 155580\n",
      "Ventas totales para la categoría 'electronics': 156905\n"
     ]
    }
   ],
   "source": [
    "# Obtener las categorías únicas de productos\n",
    "categorias_unicas = np.unique(datos['Product_Category'])\n",
    "\n",
    "# Calcular las ventas totales por cada categoría\n",
    "ventas_por_categoria = {categoria: np.sum(datos[datos['Product_Category'] == categoria]['Total_Amount']) for categoria in categorias_unicas}\n",
    "\n",
    "# Mostrar resultados\n",
    "for categoria, total_ventas in ventas_por_categoria.items():\n",
    "    print(f\"Ventas totales para la categoría '{categoria}': {total_ventas}\")"
   ]
  },
  {
   "cell_type": "code",
   "execution_count": 13,
   "metadata": {},
   "outputs": [
    {
     "name": "stdout",
     "output_type": "stream",
     "text": [
      "Cambio en ventas de 2023-01 a 2023-02: 8610\n",
      "Cambio en ventas de 2023-02 a 2023-03: -15070\n",
      "Cambio en ventas de 2023-03 a 2023-04: 4880\n",
      "Cambio en ventas de 2023-04 a 2023-05: 19280\n",
      "Cambio en ventas de 2023-05 a 2023-06: -16435\n",
      "Cambio en ventas de 2023-06 a 2023-07: -1250\n",
      "Cambio en ventas de 2023-07 a 2023-08: 1495\n",
      "Cambio en ventas de 2023-08 a 2023-09: -13340\n",
      "Cambio en ventas de 2023-09 a 2023-10: 22960\n",
      "Cambio en ventas de 2023-10 a 2023-11: -11660\n",
      "Cambio en ventas de 2023-11 a 2023-12: 9770\n",
      "Cambio en ventas de 2023-12 a 2024-01: -43160\n"
     ]
    }
   ],
   "source": [
    "# Extraemos el mes y el año de las fechas\n",
    "# Primero, convertimos las fechas en un tipo de dato que permita operaciones de fecha\n",
    "fechas = np.array([np.datetime64(fecha) for fecha in datos['Date']])\n",
    "\n",
    "# Extraemos el año y el mes como una tupla (año, mes)\n",
    "meses_años = np.array([(fecha.astype('datetime64[M]').astype('datetime64[Y]').astype(int) + 1970, fecha.astype('datetime64[M]').astype(int) % 12 + 1) for fecha in fechas])\n",
    "\n",
    "# Creamos una columna de mes-año \n",
    "mes_año_str = np.array([f\"{year}-{month:02d}\" for year, month in meses_años])\n",
    "\n",
    "# Ahora obtenemos los meses únicos\n",
    "meses_unicos = np.unique(mes_año_str)\n",
    "\n",
    "# Calculamos las ventas totales por mes\n",
    "ventas_por_mes = {mes: np.sum(datos[mes_año_str == mes]['Total_Amount']) for mes in meses_unicos}\n",
    "\n",
    "# Comparación de ventas mes a mes\n",
    "for i in range(1, len(meses_unicos)):\n",
    "    cambio = ventas_por_mes[meses_unicos[i]] - ventas_por_mes[meses_unicos[i - 1]]\n",
    "    print(f\"Cambio en ventas de {meses_unicos[i - 1]} a {meses_unicos[i]}: {cambio}\")"
   ]
  },
  {
   "cell_type": "code",
   "execution_count": 14,
   "metadata": {},
   "outputs": [
    {
     "name": "stdout",
     "output_type": "stream",
     "text": [
      "Ventas totales actuales: 456000\n",
      "Proyección de ventas futuras (10% de crecimiento): 501600.00000000006\n"
     ]
    }
   ],
   "source": [
    "# Definir el porcentaje de crecimiento esperado (por ejemplo, un 10% de crecimiento)\n",
    "crecimiento_esperado = 0.10  # 10%\n",
    "\n",
    "# Calcular la proyección de ventas futuras\n",
    "proyeccion_ventas_futuras = ventas_totales * (1 + crecimiento_esperado)\n",
    "\n",
    "# Mostrar resultados\n",
    "print(f\"Ventas totales actuales: {ventas_totales}\")\n",
    "print(f\"Proyección de ventas futuras (10% de crecimiento): {proyeccion_ventas_futuras}\")"
   ]
  },
  {
   "cell_type": "code",
   "execution_count": 15,
   "metadata": {},
   "outputs": [
    {
     "name": "stdout",
     "output_type": "stream",
     "text": [
      "Categoría: beauty\n",
      "  Ratio Ventas/Precio Promedio: 779.74\n",
      "Categoría: clothing\n",
      "  Ratio Ventas/Precio Promedio: 892.66\n",
      "Categoría: electronics\n",
      "  Ratio Ventas/Precio Promedio: 862.59\n"
     ]
    }
   ],
   "source": [
    "# Obtener categorías únicas\n",
    "categorias = np.unique(datos['Product_Category'])\n",
    "\n",
    "# Crear un diccionario para almacenar los resultados\n",
    "resultados = {}\n",
    "for categoria in categorias:\n",
    "    # Filtrar datos por categoría\n",
    "    datos_categoria = datos[datos['Product_Category'] == categoria]\n",
    "\n",
    "    # Calcular precios promedio por unidad\n",
    "    precio_promedio_categoria = np.mean(datos_categoria['Price_per_Unit'])\n",
    "    \n",
    "    # Calcular ratio de ventas respecto al precio promedio\n",
    "    if precio_promedio_categoria > 0:\n",
    "        ratio_ventas_precio = np.sum(datos_categoria['Total_Amount']) / precio_promedio_categoria\n",
    "    else:\n",
    "        ratio_ventas_precio = 0\n",
    "\n",
    "    print(f\"Categoría: {categoria}\")\n",
    "    print(f\"  Ratio Ventas/Precio Promedio: {ratio_ventas_precio:.2f}\")\n"
   ]
  }
 ],
 "metadata": {
  "kernelspec": {
   "display_name": "Python 3",
   "language": "python",
   "name": "python3"
  },
  "language_info": {
   "codemirror_mode": {
    "name": "ipython",
    "version": 3
   },
   "file_extension": ".py",
   "mimetype": "text/x-python",
   "name": "python",
   "nbconvert_exporter": "python",
   "pygments_lexer": "ipython3",
   "version": "3.12.6"
  }
 },
 "nbformat": 4,
 "nbformat_minor": 2
}
