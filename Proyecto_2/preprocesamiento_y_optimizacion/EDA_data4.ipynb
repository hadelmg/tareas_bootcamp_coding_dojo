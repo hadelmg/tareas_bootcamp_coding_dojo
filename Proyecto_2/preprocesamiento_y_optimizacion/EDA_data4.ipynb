{
 "cells": [
  {
   "cell_type": "markdown",
   "metadata": {},
   "source": [
    "# Proyecto 2-Parte II (Core)\n",
    "## Proyecto 2: Análisis y Selección de Problema\n",
    "\n",
    "### Parte II: Preprocesamiento y Optimización\n",
    "\n",
    "**Objetivo:** Realizar el preprocesamiento de datos y la optimización de modelos de machine learning para el conjunto de datos seleccionado. La meta es elegir la técnica de machine learning más adecuada y optimizar sus hiperparámetros para obtener el mejor rendimiento posible.\n",
    "\n",
    "\n",
    "### Instrucciones Detalladas\n",
    "\n",
    "#### Parte 1: Preprocesamiento de Datos\n",
    "\n",
    "1. **Limpieza de Datos:**\n",
    "   - Tratar los valores nulos utilizando técnicas adecuadas (imputación, eliminación, etc.).\n",
    "   - Manejar los outliers mediante técnicas de filtrado o transformación.\n",
    "\n",
    "2. **Transformación de Columnas:**\n",
    "   - Utilizar `ColumnTransformer` para aplicar transformaciones específicas a diferentes columnas.\n",
    "   - Realizar codificación de variables categóricas utilizando técnicas como One-Hot Encoding.\n",
    "   - Escalar las variables numéricas usando `StandardScaler` u otros métodos de normalización.\n",
    "\n",
    "3. **Creación de Pipelines:**\n",
    "   - Crear pipelines utilizando `Pipeline` de `sklearn` para automatizar el preprocesamiento de datos y asegurar la reproducibilidad.\n",
    "   - Incluir todos los pasos de preprocesamiento en el pipeline.\n",
    "\n",
    "\n",
    "#### Parte 2: Selección de Técnica de Machine Learning\n",
    "\n",
    "1. **Entrenamiento Inicial:**\n",
    "   - Entrenar múltiples modelos de machine learning (por ejemplo, Regresión Lineal, KNN, Árbol de Decisión, Random Forest, XGBoost, LGBM).\n",
    "   - Evaluar los modelos utilizando validación cruzada y seleccionar el modelo con el mejor rendimiento inicial.\n",
    "\n",
    "2. **Comparación de Modelos:**\n",
    "   - Comparar los modelos utilizando métricas de rendimiento relevantes (exactitud, precisión, recall, F1-Score, ROC-AUC, etc.).\n",
    "   - Seleccionar la técnica de machine learning más adecuada basándose en las métricas y la naturaleza del problema.\n",
    "\n",
    "#### Parte 3: Optimización de Hiperparámetros\n",
    "\n",
    "1. **GridSearchCV:**\n",
    "   - Implementar `GridSearchCV` para realizar una búsqueda exhaustiva de los mejores hiperparámetros para el modelo seleccionado.\n",
    "   - Definir el espacio de búsqueda para los hiperparámetros relevantes.\n",
    "\n",
    "2. **RandomizedSearchCV:**\n",
    "   - Implementar `RandomizedSearchCV` para realizar una búsqueda aleatoria de los mejores hiperparámetros, especialmente útil si el espacio de búsqueda es grande.\n",
    "\n",
    "3. **Optuna:**\n",
    "   - Implementar `Optuna` para una optimización avanzada de los hiperparámetros, aprovechando técnicas como la optimización bayesiana y el pruning.\n",
    "\n",
    "4. **Evaluación de Modelos Optimizados:**\n",
    "   - Entrenar el modelo con los mejores hiperparámetros encontrados y evaluar su rendimiento en el conjunto de prueba.\n",
    "   - Comparar el rendimiento del modelo optimizado con el modelo inicial.\n",
    "\n",
    "#### Parte 4: Documentación y Entrega\n",
    "\n",
    "1. **Documentación del Proceso:**\n",
    "   - Documentar todos los pasos del preprocesamiento, selección de técnica y optimización en un notebook de Jupyter.\n",
    "   - Incluir explicaciones detalladas y justificaciones para cada decisión tomada.\n",
    "\n",
    "2. **Subida a GitHub:**\n",
    "   - Actualizar el repositorio de GitHub con los notebooks de preprocesamiento, selección de técnica y optimización.\n",
    "   - Incluir los resultados de la optimización y la comparación de modelos.\n",
    "   - Crear un tag de liberación (`v2.0.0`) para esta versión del proyecto.\n",
    "\n",
    "---\n",
    "\n"
   ]
  },
  {
   "cell_type": "markdown",
   "metadata": {},
   "source": [
    "## DATASET 4"
   ]
  },
  {
   "cell_type": "markdown",
   "metadata": {},
   "source": [
    "**Fuente:** [Kaggle - Iris Dataset](https://www.kaggle.com/datasets/uciml/iris)  \n",
    "**Descripción:**  \n",
    "El conjunto de datos **Iris** es uno de los datasets más clásicos y ampliamente utilizados en el aprendizaje automático, originalmente introducido por R.A. Fisher en su artículo de 1936 *\"The Use of Multiple Measurements in Taxonomic Problems\"*. Este dataset contiene mediciones de tres especies diferentes de la flor *Iris*: *Iris-setosa*, *Iris-versicolor* e *Iris-virginica*. Cada especie tiene 50 muestras, con un total de 150 observaciones.\n",
    "\n",
    "Una de las especies (*Iris-setosa*) es linealmente separable de las otras dos, pero las especies restantes no son completamente linealmente separables, lo que hace que el problema de clasificación sea interesante y desafiante.\n",
    "\n",
    "#### Propósito:  \n",
    "Este conjunto de datos es ideal para tareas como:  \n",
    "- **Clasificación:** Predecir la especie de una flor en función de las características medidas.  \n",
    "- **Análisis Exploratorio de Datos (EDA):** Identificar relaciones entre las características y las especies.  \n",
    "- **Visualización de Datos:** Usar gráficos para comprender mejor la estructura y las separaciones entre clases.  \n",
    "\n",
    "### 2. Variables  \n",
    "El dataset incluye las siguientes columnas:\n",
    "\n",
    "| **Variable**        | **Descripción**                                     | **Tipo**       |\n",
    "|---------------------|-----------------------------------------------------|----------------|\n",
    "| `Id`               | Identificador único para cada muestra.              | Entero         |\n",
    "| `SepalLengthCm`    | Longitud del sépalo en centímetros.                 | Float          |\n",
    "| `SepalWidthCm`     | Ancho del sépalo en centímetros.                    | Float          |\n",
    "| `PetalLengthCm`    | Longitud del pétalo en centímetros.                 | Float          |\n",
    "| `PetalWidthCm`     | Ancho del pétalo en centímetros.                    | Float          |\n",
    "| `Species`          | Especie de la flor (*Iris-setosa*, *Iris-versicolor*, *Iris-virginica*). | Categórica     |\n",
    "\n",
    "### 3. Desafíos y Relevancia  \n",
    "- **Clasificación no lineal:** Aunque una de las especies es fácilmente separable, las otras dos presentan un reto para los modelos de clasificación, ya que no son completamente separables de manera lineal.  \n",
    "- **Número reducido de muestras:** El dataset cuenta solo con 150 registros, lo cual puede limitar el desempeño de modelos más complejos.  \n",
    "- **Equilibrio entre clases:** Cada clase está igualmente representada (50 muestras por clase), lo que hace que el dataset sea ideal para probar algoritmos de clasificación sin preocuparse por desbalances en las clases.  \n",
    "\n",
    "### 4. Aplicaciones  \n",
    "- Evaluar algoritmos de clasificación como K-Nearest Neighbors (KNN), Random Forest y Support Vector Machines (SVM).  \n",
    "- Visualizar datos en dos o tres dimensiones para analizar separabilidad de clases.  \n",
    "- Experimentar con técnicas de reducción de dimensionalidad como PCA para entender la relación entre las variables.  \n",
    "\n"
   ]
  },
  {
   "cell_type": "markdown",
   "metadata": {},
   "source": [
    "## DESARROLLO"
   ]
  },
  {
   "cell_type": "markdown",
   "metadata": {},
   "source": [
    "### Parte 1: Preprocesamiento de Datos\n",
    "\n",
    "1. **Limpieza de Datos:**\n",
    "   - Tratar los valores nulos utilizando técnicas adecuadas (imputación, eliminación, etc.).\n",
    "   - Manejar los outliers mediante técnicas de filtrado o transformación.\n",
    "\n",
    "2. **Transformación de Columnas:**\n",
    "   - Utilizar `ColumnTransformer` para aplicar transformaciones específicas a diferentes columnas.\n",
    "   - Realizar codificación de variables categóricas utilizando técnicas como One-Hot Encoding.\n",
    "   - Escalar las variables numéricas usando `StandardScaler` u otros métodos de normalización.\n",
    "\n",
    "3. **Creación de Pipelines:**\n",
    "   - Crear pipelines utilizando `Pipeline` de `sklearn` para automatizar el preprocesamiento de datos y asegurar la reproducibilidad.\n",
    "   - Incluir todos los pasos de preprocesamiento en el pipeline.\n"
   ]
  },
  {
   "cell_type": "code",
   "execution_count": 1,
   "metadata": {},
   "outputs": [],
   "source": [
    "import numpy as np\n",
    "import pandas as pd\n",
    "import matplotlib.pyplot as plt\n",
    "import seaborn as sns\n",
    "import re\n",
    "from sklearn.model_selection import train_test_split\n",
    "from utils import calculate_null, val_cat_unicos\n",
    "from sklearn.model_selection import cross_val_score\n",
    "import warnings\n",
    "from sklearn.model_selection import train_test_split, cross_val_score\n",
    "from sklearn.preprocessing import StandardScaler, LabelEncoder\n",
    "from sklearn.pipeline import Pipeline\n",
    "from sklearn.compose import ColumnTransformer\n",
    "from sklearn.linear_model import LogisticRegression\n",
    "from sklearn.neighbors import KNeighborsClassifier\n",
    "from sklearn.tree import DecisionTreeClassifier\n",
    "from sklearn.ensemble import RandomForestClassifier\n",
    "from xgboost import XGBClassifier\n",
    "from lightgbm import LGBMClassifier\n",
    "from sklearn.metrics import accuracy_score, precision_score, recall_score, f1_score\n",
    "from sklearn.model_selection import GridSearchCV, RandomizedSearchCV\n",
    "import optuna\n",
    "from sklearn.metrics import classification_report\n"
   ]
  },
  {
   "cell_type": "code",
   "execution_count": 2,
   "metadata": {},
   "outputs": [
    {
     "data": {
      "text/html": [
       "<div>\n",
       "<style scoped>\n",
       "    .dataframe tbody tr th:only-of-type {\n",
       "        vertical-align: middle;\n",
       "    }\n",
       "\n",
       "    .dataframe tbody tr th {\n",
       "        vertical-align: top;\n",
       "    }\n",
       "\n",
       "    .dataframe thead th {\n",
       "        text-align: right;\n",
       "    }\n",
       "</style>\n",
       "<table border=\"1\" class=\"dataframe\">\n",
       "  <thead>\n",
       "    <tr style=\"text-align: right;\">\n",
       "      <th></th>\n",
       "      <th>Id</th>\n",
       "      <th>SepalLengthCm</th>\n",
       "      <th>SepalWidthCm</th>\n",
       "      <th>PetalLengthCm</th>\n",
       "      <th>PetalWidthCm</th>\n",
       "      <th>Species</th>\n",
       "    </tr>\n",
       "  </thead>\n",
       "  <tbody>\n",
       "    <tr>\n",
       "      <th>0</th>\n",
       "      <td>1</td>\n",
       "      <td>5.1</td>\n",
       "      <td>3.5</td>\n",
       "      <td>1.4</td>\n",
       "      <td>0.2</td>\n",
       "      <td>Iris-setosa</td>\n",
       "    </tr>\n",
       "    <tr>\n",
       "      <th>1</th>\n",
       "      <td>2</td>\n",
       "      <td>4.9</td>\n",
       "      <td>3.0</td>\n",
       "      <td>1.4</td>\n",
       "      <td>0.2</td>\n",
       "      <td>Iris-setosa</td>\n",
       "    </tr>\n",
       "    <tr>\n",
       "      <th>2</th>\n",
       "      <td>3</td>\n",
       "      <td>4.7</td>\n",
       "      <td>3.2</td>\n",
       "      <td>1.3</td>\n",
       "      <td>0.2</td>\n",
       "      <td>Iris-setosa</td>\n",
       "    </tr>\n",
       "    <tr>\n",
       "      <th>3</th>\n",
       "      <td>4</td>\n",
       "      <td>4.6</td>\n",
       "      <td>3.1</td>\n",
       "      <td>1.5</td>\n",
       "      <td>0.2</td>\n",
       "      <td>Iris-setosa</td>\n",
       "    </tr>\n",
       "    <tr>\n",
       "      <th>4</th>\n",
       "      <td>5</td>\n",
       "      <td>5.0</td>\n",
       "      <td>3.6</td>\n",
       "      <td>1.4</td>\n",
       "      <td>0.2</td>\n",
       "      <td>Iris-setosa</td>\n",
       "    </tr>\n",
       "  </tbody>\n",
       "</table>\n",
       "</div>"
      ],
      "text/plain": [
       "   Id  SepalLengthCm  SepalWidthCm  PetalLengthCm  PetalWidthCm      Species\n",
       "0   1            5.1           3.5            1.4           0.2  Iris-setosa\n",
       "1   2            4.9           3.0            1.4           0.2  Iris-setosa\n",
       "2   3            4.7           3.2            1.3           0.2  Iris-setosa\n",
       "3   4            4.6           3.1            1.5           0.2  Iris-setosa\n",
       "4   5            5.0           3.6            1.4           0.2  Iris-setosa"
      ]
     },
     "execution_count": 2,
     "metadata": {},
     "output_type": "execute_result"
    }
   ],
   "source": [
    "# Cargar el dataset\n",
    "data4= pd.read_csv(\n",
    "    r'C:\\Users\\GIGABYTE\\Documents\\tareas_bootcamp_coding_dojo\\Proyecto_2\\data\\iris.csv'\n",
    ")\n",
    "data4.head(5) # Primeras 5 filas"
   ]
  },
  {
   "cell_type": "code",
   "execution_count": 3,
   "metadata": {},
   "outputs": [
    {
     "name": "stdout",
     "output_type": "stream",
     "text": [
      "<class 'pandas.core.frame.DataFrame'>\n",
      "RangeIndex: 150 entries, 0 to 149\n",
      "Data columns (total 6 columns):\n",
      " #   Column         Non-Null Count  Dtype  \n",
      "---  ------         --------------  -----  \n",
      " 0   Id             150 non-null    int64  \n",
      " 1   SepalLengthCm  150 non-null    float64\n",
      " 2   SepalWidthCm   150 non-null    float64\n",
      " 3   PetalLengthCm  150 non-null    float64\n",
      " 4   PetalWidthCm   150 non-null    float64\n",
      " 5   Species        150 non-null    object \n",
      "dtypes: float64(4), int64(1), object(1)\n",
      "memory usage: 7.2+ KB\n"
     ]
    }
   ],
   "source": [
    "data4.info() "
   ]
  },
  {
   "cell_type": "code",
   "execution_count": 4,
   "metadata": {},
   "outputs": [],
   "source": [
    "df=data4.copy()"
   ]
  },
  {
   "cell_type": "code",
   "execution_count": 5,
   "metadata": {},
   "outputs": [
    {
     "data": {
      "text/html": [
       "<div>\n",
       "<style scoped>\n",
       "    .dataframe tbody tr th:only-of-type {\n",
       "        vertical-align: middle;\n",
       "    }\n",
       "\n",
       "    .dataframe tbody tr th {\n",
       "        vertical-align: top;\n",
       "    }\n",
       "\n",
       "    .dataframe thead th {\n",
       "        text-align: right;\n",
       "    }\n",
       "</style>\n",
       "<table border=\"1\" class=\"dataframe\">\n",
       "  <thead>\n",
       "    <tr style=\"text-align: right;\">\n",
       "      <th></th>\n",
       "      <th>count</th>\n",
       "      <th>mean</th>\n",
       "      <th>std</th>\n",
       "      <th>min</th>\n",
       "      <th>25%</th>\n",
       "      <th>50%</th>\n",
       "      <th>75%</th>\n",
       "      <th>max</th>\n",
       "    </tr>\n",
       "  </thead>\n",
       "  <tbody>\n",
       "    <tr>\n",
       "      <th>Id</th>\n",
       "      <td>150.0</td>\n",
       "      <td>75.500000</td>\n",
       "      <td>43.445368</td>\n",
       "      <td>1.0</td>\n",
       "      <td>38.25</td>\n",
       "      <td>75.50</td>\n",
       "      <td>112.75</td>\n",
       "      <td>150.0</td>\n",
       "    </tr>\n",
       "    <tr>\n",
       "      <th>SepalLengthCm</th>\n",
       "      <td>150.0</td>\n",
       "      <td>5.843333</td>\n",
       "      <td>0.828066</td>\n",
       "      <td>4.3</td>\n",
       "      <td>5.10</td>\n",
       "      <td>5.80</td>\n",
       "      <td>6.40</td>\n",
       "      <td>7.9</td>\n",
       "    </tr>\n",
       "    <tr>\n",
       "      <th>SepalWidthCm</th>\n",
       "      <td>150.0</td>\n",
       "      <td>3.054000</td>\n",
       "      <td>0.433594</td>\n",
       "      <td>2.0</td>\n",
       "      <td>2.80</td>\n",
       "      <td>3.00</td>\n",
       "      <td>3.30</td>\n",
       "      <td>4.4</td>\n",
       "    </tr>\n",
       "    <tr>\n",
       "      <th>PetalLengthCm</th>\n",
       "      <td>150.0</td>\n",
       "      <td>3.758667</td>\n",
       "      <td>1.764420</td>\n",
       "      <td>1.0</td>\n",
       "      <td>1.60</td>\n",
       "      <td>4.35</td>\n",
       "      <td>5.10</td>\n",
       "      <td>6.9</td>\n",
       "    </tr>\n",
       "    <tr>\n",
       "      <th>PetalWidthCm</th>\n",
       "      <td>150.0</td>\n",
       "      <td>1.198667</td>\n",
       "      <td>0.763161</td>\n",
       "      <td>0.1</td>\n",
       "      <td>0.30</td>\n",
       "      <td>1.30</td>\n",
       "      <td>1.80</td>\n",
       "      <td>2.5</td>\n",
       "    </tr>\n",
       "  </tbody>\n",
       "</table>\n",
       "</div>"
      ],
      "text/plain": [
       "               count       mean        std  min    25%    50%     75%    max\n",
       "Id             150.0  75.500000  43.445368  1.0  38.25  75.50  112.75  150.0\n",
       "SepalLengthCm  150.0   5.843333   0.828066  4.3   5.10   5.80    6.40    7.9\n",
       "SepalWidthCm   150.0   3.054000   0.433594  2.0   2.80   3.00    3.30    4.4\n",
       "PetalLengthCm  150.0   3.758667   1.764420  1.0   1.60   4.35    5.10    6.9\n",
       "PetalWidthCm   150.0   1.198667   0.763161  0.1   0.30   1.30    1.80    2.5"
      ]
     },
     "execution_count": 5,
     "metadata": {},
     "output_type": "execute_result"
    }
   ],
   "source": [
    "df.describe().T"
   ]
  },
  {
   "cell_type": "code",
   "execution_count": 6,
   "metadata": {},
   "outputs": [
    {
     "name": "stdout",
     "output_type": "stream",
     "text": [
      "Index(['id', 'sepallengthcm', 'sepalwidthcm', 'petallengthcm', 'petalwidthcm',\n",
      "       'species'],\n",
      "      dtype='object')\n"
     ]
    }
   ],
   "source": [
    "# Renombrar columnas del dataset\n",
    "df.columns = (\n",
    "    df.columns\n",
    "    .str.strip()               # Elimina espacios iniciales y finales\n",
    "    .str.replace(\"'\", \"\")      # Elimina comillas simples\n",
    "    .str.replace(\"-\", \"_\")     # Reemplaza guiones por guiones bajos\n",
    "    .str.replace(\" \", \"_\")     # Reemplaza espacios por guiones bajos\n",
    "    .str.lower()               # Convierte todo a minúsculas\n",
    ")\n",
    "\n",
    "# Mostrar nombres de las columnas normalizados\n",
    "print(df.columns)"
   ]
  },
  {
   "cell_type": "code",
   "execution_count": 7,
   "metadata": {},
   "outputs": [
    {
     "name": "stdout",
     "output_type": "stream",
     "text": [
      "<class 'pandas.core.frame.DataFrame'>\n",
      "RangeIndex: 150 entries, 0 to 149\n",
      "Data columns (total 6 columns):\n",
      " #   Column         Non-Null Count  Dtype  \n",
      "---  ------         --------------  -----  \n",
      " 0   id             150 non-null    int64  \n",
      " 1   sepallengthcm  150 non-null    float64\n",
      " 2   sepalwidthcm   150 non-null    float64\n",
      " 3   petallengthcm  150 non-null    float64\n",
      " 4   petalwidthcm   150 non-null    float64\n",
      " 5   species        150 non-null    object \n",
      "dtypes: float64(4), int64(1), object(1)\n",
      "memory usage: 7.2+ KB\n"
     ]
    }
   ],
   "source": [
    "df.info()"
   ]
  },
  {
   "cell_type": "code",
   "execution_count": 8,
   "metadata": {},
   "outputs": [
    {
     "name": "stdout",
     "output_type": "stream",
     "text": [
      "Número de registros duplicados: 0\n"
     ]
    }
   ],
   "source": [
    "# Identificar duplicados\n",
    "duplicados = df.duplicated()\n",
    "# Contar el número de duplicados\n",
    "num_duplicados = duplicados.sum()\n",
    "print(f\"Número de registros duplicados: {num_duplicados}\")"
   ]
  },
  {
   "cell_type": "code",
   "execution_count": 9,
   "metadata": {},
   "outputs": [
    {
     "name": "stdout",
     "output_type": "stream",
     "text": [
      "Valores únicos en la columna 'species':\n",
      "['Iris-setosa' 'Iris-versicolor' 'Iris-virginica']\n",
      "\n"
     ]
    }
   ],
   "source": [
    "val_cat_unicos(df)"
   ]
  },
  {
   "cell_type": "code",
   "execution_count": 10,
   "metadata": {},
   "outputs": [
    {
     "name": "stdout",
     "output_type": "stream",
     "text": [
      "\n",
      "Valores únicos después de limpieza en 'species':\n",
      "['iris-setosa' 'iris-versicolor' 'iris-virginica']\n"
     ]
    }
   ],
   "source": [
    "def limpiar_cadena(cadena):\n",
    "    \"\"\"\n",
    "    Limpia una cadena de texto realizando las siguientes operaciones:\n",
    "    1. Convierte todo el texto a minúsculas.\n",
    "    2. Elimina caracteres no imprimibles antes de la primera letra y después de la última letra,\n",
    "       pero mantiene los caracteres internos.\n",
    "    \n",
    "    Parámetros:\n",
    "    - cadena (str): La cadena de texto a limpiar.\n",
    "    \n",
    "    Retorna:\n",
    "    - str: La cadena limpia.\n",
    "    \"\"\"\n",
    "    \n",
    "    if isinstance(cadena, str):\n",
    "        # 1. Convertir todo a minúsculas\n",
    "        cadena = cadena.lower()\n",
    "        # 2. Eliminar caracteres no imprimibles antes de la primera letra y después de la última letra\n",
    "        # Buscar la posición de la primera letra (a-z)\n",
    "        primer_letra = re.search(r'[a-z]', cadena)\n",
    "        # Buscar la posición de la última letra (a-z)\n",
    "        ultima_letra = re.search(r'[a-z](?!.*[a-z])', cadena)\n",
    "        \n",
    "        if primer_letra and ultima_letra:\n",
    "            inicio = primer_letra.start()\n",
    "            fin = ultima_letra.end()\n",
    "            cadena = cadena[inicio:fin]\n",
    "        else:\n",
    "            # Si no se encuentran letras, eliminar espacios en blanco\n",
    "            cadena = cadena.strip()\n",
    "        \n",
    "        return cadena\n",
    "    return cadena\n",
    "\n",
    "# Identificar automáticamente las columnas categóricas (tipo object, string o category)\n",
    "categorical_cols = df.select_dtypes(include=['object', 'string', 'category']).columns\n",
    "\n",
    "# Aplicar la limpieza a las columnas categóricas\n",
    "for col in categorical_cols:\n",
    "    df[col] = df[col].apply(limpiar_cadena)\n",
    "# Verificar los cambios\n",
    "for col in categorical_cols:\n",
    "    print(f\"\\nValores únicos después de limpieza en '{col}':\")\n",
    "    print(df[col].unique())\n"
   ]
  },
  {
   "cell_type": "code",
   "execution_count": 11,
   "metadata": {},
   "outputs": [
    {
     "data": {
      "text/html": [
       "<div>\n",
       "<style scoped>\n",
       "    .dataframe tbody tr th:only-of-type {\n",
       "        vertical-align: middle;\n",
       "    }\n",
       "\n",
       "    .dataframe tbody tr th {\n",
       "        vertical-align: top;\n",
       "    }\n",
       "\n",
       "    .dataframe thead th {\n",
       "        text-align: right;\n",
       "    }\n",
       "</style>\n",
       "<table border=\"1\" class=\"dataframe\">\n",
       "  <thead>\n",
       "    <tr style=\"text-align: right;\">\n",
       "      <th></th>\n",
       "      <th>datos sin NAs en q</th>\n",
       "      <th>Na en q</th>\n",
       "      <th>Na en %</th>\n",
       "    </tr>\n",
       "  </thead>\n",
       "  <tbody>\n",
       "    <tr>\n",
       "      <th>id</th>\n",
       "      <td>150</td>\n",
       "      <td>0</td>\n",
       "      <td>0.0</td>\n",
       "    </tr>\n",
       "    <tr>\n",
       "      <th>sepallengthcm</th>\n",
       "      <td>150</td>\n",
       "      <td>0</td>\n",
       "      <td>0.0</td>\n",
       "    </tr>\n",
       "    <tr>\n",
       "      <th>sepalwidthcm</th>\n",
       "      <td>150</td>\n",
       "      <td>0</td>\n",
       "      <td>0.0</td>\n",
       "    </tr>\n",
       "    <tr>\n",
       "      <th>petallengthcm</th>\n",
       "      <td>150</td>\n",
       "      <td>0</td>\n",
       "      <td>0.0</td>\n",
       "    </tr>\n",
       "    <tr>\n",
       "      <th>petalwidthcm</th>\n",
       "      <td>150</td>\n",
       "      <td>0</td>\n",
       "      <td>0.0</td>\n",
       "    </tr>\n",
       "    <tr>\n",
       "      <th>species</th>\n",
       "      <td>150</td>\n",
       "      <td>0</td>\n",
       "      <td>0.0</td>\n",
       "    </tr>\n",
       "  </tbody>\n",
       "</table>\n",
       "</div>"
      ],
      "text/plain": [
       "               datos sin NAs en q  Na en q  Na en %\n",
       "id                            150        0      0.0\n",
       "sepallengthcm                 150        0      0.0\n",
       "sepalwidthcm                  150        0      0.0\n",
       "petallengthcm                 150        0      0.0\n",
       "petalwidthcm                  150        0      0.0\n",
       "species                       150        0      0.0"
      ]
     },
     "execution_count": 11,
     "metadata": {},
     "output_type": "execute_result"
    }
   ],
   "source": [
    "calculate_null(df)"
   ]
  },
  {
   "cell_type": "code",
   "execution_count": 12,
   "metadata": {},
   "outputs": [
    {
     "data": {
      "image/png": "[encoded data removed]",
      "text/plain": [
       "<Figure size 1000x800 with 6 Axes>"
      ]
     },
     "metadata": {},
     "output_type": "display_data"
    }
   ],
   "source": [
    "# Histogramas para cada variable\n",
    "df.hist(bins=15, figsize=(10, 8), color='skyblue', edgecolor='black')\n",
    "plt.suptitle('Distribución de Variables Numéricas', fontsize=16)\n",
    "plt.show()"
   ]
  },
  {
   "cell_type": "code",
   "execution_count": 13,
   "metadata": {},
   "outputs": [],
   "source": [
    "# Suprimir advertencias\n",
    "warnings.filterwarnings('ignore')\n",
    "\n",
    "# Copiar los datos\n",
    "data = df.copy()\n",
    "X = data.drop(columns=['id', 'species'])\n",
    "y = data['species']\n",
    "\n",
    "# Codificar la variable objetivo\n",
    "label_encoder = LabelEncoder()\n",
    "y_encoded = label_encoder.fit_transform(y)\n",
    "\n",
    "# Dividir los datos en entrenamiento y prueba\n",
    "X_train, X_test, y_train, y_test = train_test_split(X, y_encoded, test_size=0.2, random_state=42, stratify=y_encoded)\n",
    "\n",
    "# Pipeline de preprocesamiento\n",
    "numeric_features = ['sepallengthcm', 'sepalwidthcm', 'petallengthcm', 'petalwidthcm']\n",
    "numeric_transformer = Pipeline(steps=[('scaler', StandardScaler())])\n",
    "\n",
    "preprocessor = ColumnTransformer(\n",
    "    transformers=[\n",
    "        ('num', numeric_transformer, numeric_features)\n",
    "    ])\n",
    "\n"
   ]
  },
  {
   "cell_type": "markdown",
   "metadata": {},
   "source": [
    "### Parte 2: Selección de Técnica de Machine Learning\n",
    "\n",
    "1. **Entrenamiento Inicial:**\n",
    "   - Entrenar múltiples modelos de machine learning (por ejemplo, Regresión Lineal, KNN, Árbol de Decisión, Random Forest, XGBoost, LGBM).\n",
    "   - Evaluar los modelos utilizando validación cruzada y seleccionar el modelo con el mejor rendimiento inicial.\n",
    "\n",
    "2. **Comparación de Modelos:**\n",
    "   - Comparar los modelos utilizando métricas de rendimiento relevantes (exactitud, precisión, recall, F1-Score, ROC-AUC, etc.).\n",
    "   - Seleccionar la técnica de machine learning más adecuada basándose en las métricas y la naturaleza del problema.\n"
   ]
  },
  {
   "cell_type": "code",
   "execution_count": 14,
   "metadata": {},
   "outputs": [
    {
     "name": "stdout",
     "output_type": "stream",
     "text": [
      "Mejor modelo: KNN\n",
      "Accuracy: 0.93\n",
      "Precision: 0.94\n",
      "Recall: 0.93\n",
      "F1-Score: 0.93\n"
     ]
    }
   ],
   "source": [
    "# Modelos para evaluar\n",
    "models = {\n",
    "    'Logistic Regression': LogisticRegression(max_iter=1000, random_state=42),\n",
    "    'KNN': KNeighborsClassifier(),\n",
    "    'Decision Tree': DecisionTreeClassifier(random_state=42),\n",
    "    'Random Forest': RandomForestClassifier(random_state=42),\n",
    "    'XGBoost': XGBClassifier(eval_metric='logloss', use_label_encoder=False, random_state=42),\n",
    "    'LightGBM': LGBMClassifier(random_state=42, verbosity=-1)\n",
    "}\n",
    "\n",
    "# Evaluar modelos con validación cruzada\n",
    "results = {}\n",
    "for name, model in models.items():\n",
    "    pipeline = Pipeline(steps=[\n",
    "        ('preprocessor', preprocessor),\n",
    "        ('classifier', model)\n",
    "    ])\n",
    "    scores = cross_val_score(pipeline, X_train, y_train, cv=5, scoring='accuracy')\n",
    "    results[name] = scores.mean()\n",
    "\n",
    "# Seleccionar el mejor modelo\n",
    "best_model_name = max(results, key=results.get)\n",
    "best_model = models[best_model_name]\n",
    "\n",
    "# Entrenar el mejor modelo en los datos de entrenamiento completos\n",
    "pipeline = Pipeline(steps=[\n",
    "    ('preprocessor', preprocessor),\n",
    "    ('classifier', best_model)\n",
    "])\n",
    "pipeline.fit(X_train, y_train)\n",
    "\n",
    "# Predicciones y métricas en el conjunto de prueba\n",
    "y_pred = pipeline.predict(X_test)\n",
    "accuracy = accuracy_score(y_test, y_pred)\n",
    "precision = precision_score(y_test, y_pred, average='weighted')\n",
    "recall = recall_score(y_test, y_pred, average='weighted')\n",
    "f1 = f1_score(y_test, y_pred, average='weighted')\n",
    "\n",
    "# Imprimir métricas\n",
    "print(f\"Mejor modelo: {best_model_name}\")\n",
    "print(f\"Accuracy: {accuracy:.2f}\")\n",
    "print(f\"Precision: {precision:.2f}\")\n",
    "print(f\"Recall: {recall:.2f}\")\n",
    "print(f\"F1-Score: {f1:.2f}\")\n"
   ]
  },
  {
   "cell_type": "markdown",
   "metadata": {},
   "source": [
    "### Parte 3: Optimización de Hiperparámetros\n",
    "\n",
    "1. **GridSearchCV:**\n",
    "   - Implementar `GridSearchCV` para realizar una búsqueda exhaustiva de los mejores hiperparámetros para el modelo seleccionado.\n",
    "   - Definir el espacio de búsqueda para los hiperparámetros relevantes.\n",
    "\n",
    "2. **RandomizedSearchCV:**\n",
    "   - Implementar `RandomizedSearchCV` para realizar una búsqueda aleatoria de los mejores hiperparámetros, especialmente útil si el espacio de búsqueda es grande.\n",
    "\n",
    "3. **Optuna:**\n",
    "   - Implementar `Optuna` para una optimización avanzada de los hiperparámetros, aprovechando técnicas como la optimización bayesiana y el pruning.\n",
    "\n",
    "4. **Evaluación de Modelos Optimizados:**\n",
    "   - Entrenar el modelo con los mejores hiperparámetros encontrados y evaluar su rendimiento en el conjunto de prueba.\n",
    "   - Comparar el rendimiento del modelo optimizado con el modelo inicial.\n",
    "\n"
   ]
  },
  {
   "cell_type": "code",
   "execution_count": 15,
   "metadata": {},
   "outputs": [
    {
     "name": "stdout",
     "output_type": "stream",
     "text": [
      "=== GridSearchCV ===\n",
      "Fitting 5 folds for each of 120 candidates, totalling 600 fits\n",
      "Best Parameters (GridSearchCV): {'metric': 'euclidean', 'n_neighbors': 6, 'weights': 'uniform'}\n",
      "Classification Report (GridSearchCV):\n",
      "              precision    recall  f1-score   support\n",
      "\n",
      "           0       1.00      1.00      1.00        10\n",
      "           1       0.91      1.00      0.95        10\n",
      "           2       1.00      0.90      0.95        10\n",
      "\n",
      "    accuracy                           0.97        30\n",
      "   macro avg       0.97      0.97      0.97        30\n",
      "weighted avg       0.97      0.97      0.97        30\n",
      "\n"
     ]
    }
   ],
   "source": [
    "# Espacio de búsqueda para KNN\n",
    "knn_param_grid = {\n",
    "    'n_neighbors': range(1, 21),  # Vecinos de 1 a 20\n",
    "    'weights': ['uniform', 'distance'],\n",
    "    'metric': ['euclidean', 'manhattan', 'minkowski']\n",
    "}\n",
    "\n",
    "# 1. GridSearchCV\n",
    "print(\"=== GridSearchCV ===\")\n",
    "grid_search = GridSearchCV(\n",
    "    estimator=KNeighborsClassifier(),\n",
    "    param_grid=knn_param_grid,\n",
    "    cv=5,\n",
    "    scoring='accuracy',\n",
    "    verbose=1\n",
    ")\n",
    "grid_search.fit(X_train, y_train)\n",
    "best_knn_grid = grid_search.best_estimator_\n",
    "print(\"Best Parameters (GridSearchCV):\", grid_search.best_params_)\n",
    "\n",
    "# Evaluar el modelo optimizado con GridSearchCV\n",
    "y_pred_grid = best_knn_grid.predict(X_test)\n",
    "print(\"Classification Report (GridSearchCV):\")\n",
    "print(classification_report(y_test, y_pred_grid))\n"
   ]
  },
  {
   "cell_type": "code",
   "execution_count": 16,
   "metadata": {},
   "outputs": [
    {
     "name": "stdout",
     "output_type": "stream",
     "text": [
      "\n",
      "=== RandomizedSearchCV ===\n",
      "Fitting 5 folds for each of 20 candidates, totalling 100 fits\n",
      "Best Parameters (RandomizedSearchCV): {'weights': 'uniform', 'n_neighbors': 6, 'metric': 'euclidean'}\n",
      "Classification Report (RandomizedSearchCV):\n",
      "              precision    recall  f1-score   support\n",
      "\n",
      "           0       1.00      1.00      1.00        10\n",
      "           1       0.91      1.00      0.95        10\n",
      "           2       1.00      0.90      0.95        10\n",
      "\n",
      "    accuracy                           0.97        30\n",
      "   macro avg       0.97      0.97      0.97        30\n",
      "weighted avg       0.97      0.97      0.97        30\n",
      "\n"
     ]
    }
   ],
   "source": [
    "# 2. RandomizedSearchCV\n",
    "print(\"\\n=== RandomizedSearchCV ===\")\n",
    "random_search = RandomizedSearchCV(\n",
    "    estimator=KNeighborsClassifier(),\n",
    "    param_distributions=knn_param_grid,\n",
    "    n_iter=20,  # 20 combinaciones aleatorias\n",
    "    cv=5,\n",
    "    scoring='accuracy',\n",
    "    random_state=42,\n",
    "    verbose=1\n",
    ")\n",
    "random_search.fit(X_train, y_train)\n",
    "best_knn_random = random_search.best_estimator_\n",
    "print(\"Best Parameters (RandomizedSearchCV):\", random_search.best_params_)\n",
    "\n",
    "# Evaluar el modelo optimizado con RandomizedSearchCV\n",
    "y_pred_random = best_knn_random.predict(X_test)\n",
    "print(\"Classification Report (RandomizedSearchCV):\")\n",
    "print(classification_report(y_test, y_pred_random))"
   ]
  },
  {
   "cell_type": "code",
   "execution_count": 17,
   "metadata": {},
   "outputs": [
    {
     "name": "stderr",
     "output_type": "stream",
     "text": [
      "[I 2024-11-27 21:00:29,622] A new study created in memory with name: no-name-038aacd7-ccae-44fc-8f35-b776cb85891e\n",
      "[I 2024-11-27 21:00:29,655] Trial 0 finished with value: 0.9583333333333334 and parameters: {'n_neighbors': 10, 'weights': 'uniform', 'metric': 'euclidean'}. Best is trial 0 with value: 0.9583333333333334.\n",
      "[I 2024-11-27 21:00:29,675] Trial 1 finished with value: 0.9666666666666666 and parameters: {'n_neighbors': 15, 'weights': 'uniform', 'metric': 'euclidean'}. Best is trial 1 with value: 0.9666666666666666.\n",
      "[I 2024-11-27 21:00:29,684] Trial 2 finished with value: 0.975 and parameters: {'n_neighbors': 7, 'weights': 'uniform', 'metric': 'minkowski'}. Best is trial 2 with value: 0.975.\n",
      "[I 2024-11-27 21:00:29,714] Trial 3 finished with value: 0.9666666666666666 and parameters: {'n_neighbors': 12, 'weights': 'uniform', 'metric': 'euclidean'}. Best is trial 2 with value: 0.975.\n",
      "[I 2024-11-27 21:00:29,733] Trial 4 finished with value: 0.9666666666666668 and parameters: {'n_neighbors': 14, 'weights': 'distance', 'metric': 'euclidean'}. Best is trial 2 with value: 0.975.\n",
      "[I 2024-11-27 21:00:29,748] Trial 5 finished with value: 0.975 and parameters: {'n_neighbors': 7, 'weights': 'uniform', 'metric': 'manhattan'}. Best is trial 2 with value: 0.975.\n",
      "[I 2024-11-27 21:00:29,763] Trial 6 finished with value: 0.9666666666666666 and parameters: {'n_neighbors': 8, 'weights': 'uniform', 'metric': 'manhattan'}. Best is trial 2 with value: 0.975.\n",
      "[I 2024-11-27 21:00:29,797] Trial 7 finished with value: 0.9583333333333334 and parameters: {'n_neighbors': 13, 'weights': 'uniform', 'metric': 'euclidean'}. Best is trial 2 with value: 0.975.\n"
     ]
    },
    {
     "name": "stdout",
     "output_type": "stream",
     "text": [
      "\n",
      "=== Optuna ===\n"
     ]
    },
    {
     "name": "stderr",
     "output_type": "stream",
     "text": [
      "[I 2024-11-27 21:00:29,810] Trial 8 finished with value: 0.95 and parameters: {'n_neighbors': 4, 'weights': 'distance', 'metric': 'manhattan'}. Best is trial 2 with value: 0.975.\n",
      "[I 2024-11-27 21:00:29,826] Trial 9 finished with value: 0.975 and parameters: {'n_neighbors': 12, 'weights': 'distance', 'metric': 'manhattan'}. Best is trial 2 with value: 0.975.\n",
      "[I 2024-11-27 21:00:29,834] Trial 10 finished with value: 0.975 and parameters: {'n_neighbors': 19, 'weights': 'distance', 'metric': 'minkowski'}. Best is trial 2 with value: 0.975.\n",
      "[I 2024-11-27 21:00:29,866] Trial 11 finished with value: 0.9666666666666668 and parameters: {'n_neighbors': 4, 'weights': 'uniform', 'metric': 'minkowski'}. Best is trial 2 with value: 0.975.\n",
      "[I 2024-11-27 21:00:29,898] Trial 12 finished with value: 0.975 and parameters: {'n_neighbors': 7, 'weights': 'uniform', 'metric': 'minkowski'}. Best is trial 2 with value: 0.975.\n",
      "[I 2024-11-27 21:00:29,914] Trial 13 finished with value: 0.9416666666666668 and parameters: {'n_neighbors': 1, 'weights': 'uniform', 'metric': 'minkowski'}. Best is trial 2 with value: 0.975.\n",
      "[I 2024-11-27 21:00:29,946] Trial 14 finished with value: 0.9583333333333334 and parameters: {'n_neighbors': 6, 'weights': 'uniform', 'metric': 'manhattan'}. Best is trial 2 with value: 0.975.\n",
      "[I 2024-11-27 21:00:29,966] Trial 15 finished with value: 0.9416666666666668 and parameters: {'n_neighbors': 1, 'weights': 'uniform', 'metric': 'minkowski'}. Best is trial 2 with value: 0.975.\n",
      "[I 2024-11-27 21:00:29,982] Trial 16 finished with value: 0.975 and parameters: {'n_neighbors': 9, 'weights': 'uniform', 'metric': 'manhattan'}. Best is trial 2 with value: 0.975.\n",
      "[I 2024-11-27 21:00:30,013] Trial 17 finished with value: 0.975 and parameters: {'n_neighbors': 5, 'weights': 'uniform', 'metric': 'minkowski'}. Best is trial 2 with value: 0.975.\n",
      "[I 2024-11-27 21:00:30,031] Trial 18 finished with value: 0.9666666666666668 and parameters: {'n_neighbors': 17, 'weights': 'distance', 'metric': 'manhattan'}. Best is trial 2 with value: 0.975.\n",
      "[I 2024-11-27 21:00:30,063] Trial 19 finished with value: 0.9583333333333334 and parameters: {'n_neighbors': 3, 'weights': 'uniform', 'metric': 'manhattan'}. Best is trial 2 with value: 0.975.\n",
      "[I 2024-11-27 21:00:30,077] Trial 20 finished with value: 0.9583333333333334 and parameters: {'n_neighbors': 10, 'weights': 'uniform', 'metric': 'minkowski'}. Best is trial 2 with value: 0.975.\n",
      "[I 2024-11-27 21:00:30,110] Trial 21 finished with value: 0.975 and parameters: {'n_neighbors': 11, 'weights': 'distance', 'metric': 'manhattan'}. Best is trial 2 with value: 0.975.\n",
      "[I 2024-11-27 21:00:30,126] Trial 22 finished with value: 0.975 and parameters: {'n_neighbors': 8, 'weights': 'distance', 'metric': 'manhattan'}. Best is trial 2 with value: 0.975.\n",
      "[I 2024-11-27 21:00:30,142] Trial 23 finished with value: 0.9666666666666668 and parameters: {'n_neighbors': 16, 'weights': 'distance', 'metric': 'manhattan'}. Best is trial 2 with value: 0.975.\n",
      "[I 2024-11-27 21:00:30,158] Trial 24 finished with value: 0.975 and parameters: {'n_neighbors': 7, 'weights': 'distance', 'metric': 'manhattan'}. Best is trial 2 with value: 0.975.\n",
      "[I 2024-11-27 21:00:30,176] Trial 25 finished with value: 0.975 and parameters: {'n_neighbors': 11, 'weights': 'distance', 'metric': 'manhattan'}. Best is trial 2 with value: 0.975.\n",
      "[I 2024-11-27 21:00:30,216] Trial 26 finished with value: 0.9666666666666668 and parameters: {'n_neighbors': 13, 'weights': 'distance', 'metric': 'minkowski'}. Best is trial 2 with value: 0.975.\n",
      "[I 2024-11-27 21:00:30,241] Trial 27 finished with value: 0.975 and parameters: {'n_neighbors': 9, 'weights': 'uniform', 'metric': 'manhattan'}. Best is trial 2 with value: 0.975.\n",
      "[I 2024-11-27 21:00:30,266] Trial 28 finished with value: 0.95 and parameters: {'n_neighbors': 6, 'weights': 'distance', 'metric': 'manhattan'}. Best is trial 2 with value: 0.975.\n",
      "[I 2024-11-27 21:00:30,286] Trial 29 finished with value: 0.9583333333333334 and parameters: {'n_neighbors': 10, 'weights': 'uniform', 'metric': 'minkowski'}. Best is trial 2 with value: 0.975.\n",
      "[I 2024-11-27 21:00:30,317] Trial 30 finished with value: 0.9583333333333334 and parameters: {'n_neighbors': 3, 'weights': 'uniform', 'metric': 'euclidean'}. Best is trial 2 with value: 0.975.\n",
      "[I 2024-11-27 21:00:30,333] Trial 31 finished with value: 0.975 and parameters: {'n_neighbors': 18, 'weights': 'distance', 'metric': 'minkowski'}. Best is trial 2 with value: 0.975.\n",
      "[I 2024-11-27 21:00:30,352] Trial 32 finished with value: 0.975 and parameters: {'n_neighbors': 20, 'weights': 'distance', 'metric': 'minkowski'}. Best is trial 2 with value: 0.975.\n",
      "[I 2024-11-27 21:00:30,384] Trial 33 finished with value: 0.975 and parameters: {'n_neighbors': 20, 'weights': 'distance', 'metric': 'minkowski'}. Best is trial 2 with value: 0.975.\n",
      "[I 2024-11-27 21:00:30,400] Trial 34 finished with value: 0.975 and parameters: {'n_neighbors': 18, 'weights': 'distance', 'metric': 'euclidean'}. Best is trial 2 with value: 0.975.\n",
      "[I 2024-11-27 21:00:30,418] Trial 35 finished with value: 0.9666666666666668 and parameters: {'n_neighbors': 12, 'weights': 'distance', 'metric': 'minkowski'}. Best is trial 2 with value: 0.975.\n",
      "[I 2024-11-27 21:00:30,450] Trial 36 finished with value: 0.9666666666666666 and parameters: {'n_neighbors': 15, 'weights': 'uniform', 'metric': 'euclidean'}. Best is trial 2 with value: 0.975.\n",
      "[I 2024-11-27 21:00:30,467] Trial 37 finished with value: 0.975 and parameters: {'n_neighbors': 8, 'weights': 'distance', 'metric': 'minkowski'}. Best is trial 2 with value: 0.975.\n",
      "[I 2024-11-27 21:00:30,500] Trial 38 finished with value: 0.975 and parameters: {'n_neighbors': 14, 'weights': 'uniform', 'metric': 'manhattan'}. Best is trial 2 with value: 0.975.\n",
      "[I 2024-11-27 21:00:30,518] Trial 39 finished with value: 0.9666666666666668 and parameters: {'n_neighbors': 6, 'weights': 'distance', 'metric': 'euclidean'}. Best is trial 2 with value: 0.975.\n",
      "[I 2024-11-27 21:00:30,533] Trial 40 finished with value: 0.9666666666666666 and parameters: {'n_neighbors': 12, 'weights': 'uniform', 'metric': 'minkowski'}. Best is trial 2 with value: 0.975.\n",
      "[I 2024-11-27 21:00:30,567] Trial 41 finished with value: 0.975 and parameters: {'n_neighbors': 7, 'weights': 'uniform', 'metric': 'minkowski'}. Best is trial 2 with value: 0.975.\n",
      "[I 2024-11-27 21:00:30,600] Trial 42 finished with value: 0.975 and parameters: {'n_neighbors': 5, 'weights': 'uniform', 'metric': 'minkowski'}. Best is trial 2 with value: 0.975.\n",
      "[I 2024-11-27 21:00:30,616] Trial 43 finished with value: 0.9583333333333334 and parameters: {'n_neighbors': 9, 'weights': 'uniform', 'metric': 'minkowski'}. Best is trial 2 with value: 0.975.\n",
      "[I 2024-11-27 21:00:30,650] Trial 44 finished with value: 0.9666666666666668 and parameters: {'n_neighbors': 4, 'weights': 'uniform', 'metric': 'minkowski'}. Best is trial 2 with value: 0.975.\n",
      "[I 2024-11-27 21:00:30,667] Trial 45 finished with value: 0.975 and parameters: {'n_neighbors': 7, 'weights': 'uniform', 'metric': 'minkowski'}. Best is trial 2 with value: 0.975.\n",
      "[I 2024-11-27 21:00:30,700] Trial 46 finished with value: 0.9416666666666668 and parameters: {'n_neighbors': 2, 'weights': 'uniform', 'metric': 'manhattan'}. Best is trial 2 with value: 0.975.\n",
      "[I 2024-11-27 21:00:30,733] Trial 47 finished with value: 0.975 and parameters: {'n_neighbors': 5, 'weights': 'uniform', 'metric': 'minkowski'}. Best is trial 2 with value: 0.975.\n",
      "[I 2024-11-27 21:00:30,752] Trial 48 finished with value: 0.9666666666666666 and parameters: {'n_neighbors': 8, 'weights': 'uniform', 'metric': 'manhattan'}. Best is trial 2 with value: 0.975.\n",
      "[I 2024-11-27 21:00:30,785] Trial 49 finished with value: 0.9583333333333334 and parameters: {'n_neighbors': 10, 'weights': 'uniform', 'metric': 'minkowski'}. Best is trial 2 with value: 0.975.\n"
     ]
    },
    {
     "name": "stdout",
     "output_type": "stream",
     "text": [
      "Best Parameters (Optuna): {'n_neighbors': 7, 'weights': 'uniform', 'metric': 'minkowski'}\n",
      "Classification Report (Optuna):\n",
      "              precision    recall  f1-score   support\n",
      "\n",
      "           0       1.00      1.00      1.00        10\n",
      "           1       0.91      1.00      0.95        10\n",
      "           2       1.00      0.90      0.95        10\n",
      "\n",
      "    accuracy                           0.97        30\n",
      "   macro avg       0.97      0.97      0.97        30\n",
      "weighted avg       0.97      0.97      0.97        30\n",
      "\n"
     ]
    }
   ],
   "source": [
    "# 3. Optuna\n",
    "print(\"\\n=== Optuna ===\")\n",
    "\n",
    "def objective_knn(trial):\n",
    "    # Espacio de búsqueda definido por Optuna\n",
    "    param = {\n",
    "        'n_neighbors': trial.suggest_int('n_neighbors', 1, 20),\n",
    "        'weights': trial.suggest_categorical('weights', ['uniform', 'distance']),\n",
    "        'metric': trial.suggest_categorical('metric', ['euclidean', 'manhattan', 'minkowski'])\n",
    "    }\n",
    "    model = KNeighborsClassifier(**param)\n",
    "    # Validación cruzada para evaluar el modelo\n",
    "    scores = cross_val_score(model, X_train, y_train, cv=5, scoring='accuracy')\n",
    "    return scores.mean()\n",
    "\n",
    "study_knn = optuna.create_study(direction='maximize')\n",
    "study_knn.optimize(objective_knn, n_trials=50)\n",
    "\n",
    "# Entrenar modelo con los mejores hiperparámetros de Optuna\n",
    "best_params_optuna_knn = study_knn.best_params\n",
    "best_knn_optuna = KNeighborsClassifier(**best_params_optuna_knn)\n",
    "best_knn_optuna.fit(X_train, y_train)\n",
    "print(\"Best Parameters (Optuna):\", best_params_optuna_knn)\n",
    "\n",
    "# Evaluar el modelo optimizado con Optuna\n",
    "y_pred_optuna = best_knn_optuna.predict(X_test)\n",
    "print(\"Classification Report (Optuna):\")\n",
    "print(classification_report(y_test, y_pred_optuna))\n",
    "\n"
   ]
  },
  {
   "cell_type": "code",
   "execution_count": 18,
   "metadata": {},
   "outputs": [
    {
     "name": "stdout",
     "output_type": "stream",
     "text": [
      "\n",
      "=== Resumen Comparativo ===\n",
      "GridSearchCV Accuracy: 0.97\n",
      "RandomizedSearchCV Accuracy: 0.97\n",
      "Optuna Accuracy: 0.97\n"
     ]
    }
   ],
   "source": [
    "# Comparar modelos optimizados\n",
    "print(\"\\n=== Resumen Comparativo ===\")\n",
    "print(f\"GridSearchCV Accuracy: {accuracy_score(y_test, y_pred_grid):.2f}\")\n",
    "print(f\"RandomizedSearchCV Accuracy: {accuracy_score(y_test, y_pred_random):.2f}\")\n",
    "print(f\"Optuna Accuracy: {accuracy_score(y_test, y_pred_optuna):.2f}\")\n"
   ]
  }
 ],
 "metadata": {
  "kernelspec": {
   "display_name": "Python 3",
   "language": "python",
   "name": "python3"
  },
  "language_info": {
   "codemirror_mode": {
    "name": "ipython",
    "version": 3
   },
   "file_extension": ".py",
   "mimetype": "text/x-python",
   "name": "python",
   "nbconvert_exporter": "python",
   "pygments_lexer": "ipython3",
   "version": "3.12.6"
  }
 },
 "nbformat": 4,
 "nbformat_minor": 2
}
