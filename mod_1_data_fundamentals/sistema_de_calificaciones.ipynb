{
 "cells": [
  {
   "cell_type": "markdown",
   "metadata": {},
   "source": [
    "## Sistema de Calificaciones (Core)"
   ]
  },
  {
   "cell_type": "code",
   "execution_count": 8,
   "metadata": {},
   "outputs": [],
   "source": [
    "#Se crea la función que solicita al usuario ingresar la cantidad de estudiantes\n",
    "def obtener_numero_estudiantes():\n",
    "    while True: #Bucle while que valida los datos ingresados\n",
    "        try:\n",
    "            num_estudiantes = int(input(\"Ingrese el número de estudiantes: \")) \n",
    "            if num_estudiantes <= 0:\n",
    "                print(\"Por favor, ingrese un número válido mayor a cero.\")\n",
    "            else:\n",
    "                return num_estudiantes # Devuelve la cantidad de estudiantes\n",
    "        except ValueError:\n",
    "            print(\"Entrada no válida. Debe ingresar un número entero.\") \n"
   ]
  },
  {
   "cell_type": "code",
   "execution_count": 9,
   "metadata": {},
   "outputs": [],
   "source": [
    "#Se crea la función que solicita al usuario ingresar el nombre del estudiante\n",
    "def obtener_nombre_estudiante():\n",
    "    nombre = input(\"Ingrese el nombre del estudiante: \")\n",
    "    return nombre.strip() # Devuelve el nombre del estudiante\n"
   ]
  },
  {
   "cell_type": "code",
   "execution_count": 10,
   "metadata": {},
   "outputs": [],
   "source": [
    "#Se crea la función que solicita al usuario  ingresar la cantidad de asignaturas por estudiante\n",
    "def obtener_numero_asignaturas():\n",
    "    while True: #Bucle while que valida los datos ingresados\n",
    "        try:\n",
    "            num_asignaturas = int(input(\"Ingrese el número de asignaturas: \"))\n",
    "            if num_asignaturas <= 0:\n",
    "                print(\"Por favor, ingrese un número válido mayor a cero.\")\n",
    "            else:\n",
    "                return num_asignaturas # Devuelve la cantidad de asignaturas\n",
    "        except ValueError:\n",
    "            print(\"Entrada no válida. Debe ingresar un número entero.\")"
   ]
  },
  {
   "cell_type": "code",
   "execution_count": 11,
   "metadata": {},
   "outputs": [],
   "source": [
    "#Se crea la función que solicita al usuario ingresar la calificación por estudiante para cada asignatura\n",
    "def obtener_calificaciones(num_asignaturas):\n",
    "    calificaciones = []\n",
    "    #Bucle que controla que se ingrese la calificación para todas las asignaturas asignadas \n",
    "    for i in range(num_asignaturas): \n",
    "        #Bucle while que valida los datos ingresados\n",
    "        while True: \n",
    "            try:\n",
    "                calificacion = float(input(f\"Ingrese la calificación para la asignatura {i + 1}: \"))\n",
    "                if 0 <= calificacion <= 10:\n",
    "                    calificaciones.append(calificacion)\n",
    "                    break\n",
    "                else:\n",
    "                    print(\"La calificación debe estar entre 0 y 10.\")\n",
    "            except ValueError:\n",
    "                print(\"Entrada no válida. Debe ingresar un número.\")\n",
    "    return calificaciones # Devuelve las calificaciones por asignatura"
   ]
  },
  {
   "cell_type": "code",
   "execution_count": 12,
   "metadata": {},
   "outputs": [],
   "source": [
    "#Se crea la función que permite calcular el promedio de cada estudiante\n",
    "def calcular_promedio(calificaciones):\n",
    "    #Se verifica la cantidad de calificaciones ingresadas\n",
    "    if len(calificaciones) == 0:\n",
    "        return 0 # Retorna un promedio 0 si no hay calificaciones superiores a 1\n",
    "    return sum(calificaciones) / len(calificaciones)"
   ]
  },
  {
   "cell_type": "code",
   "execution_count": 13,
   "metadata": {},
   "outputs": [],
   "source": [
    "#Se crea la función que permite determinar si el estudiante aprueba o no teniendo 6.0 el minimo aprobatorio\n",
    "def determinar_estado(promedio):\n",
    "    if promedio >= 6.0: \n",
    "        return \"Aprobado\"\n",
    "    else:\n",
    "        return \"Reprobado\""
   ]
  },
  {
   "cell_type": "code",
   "execution_count": 14,
   "metadata": {},
   "outputs": [],
   "source": [
    "#Se crea la función que permite mostrar un resumen con los nombres de los estudiantes, su promedio y su estado\n",
    "def imprimir_resumen(estudiantes):\n",
    "    print(\"\\nResumen de Calificaciones:\")\n",
    "    for estudiante in estudiantes:\n",
    "        print(f\"Estudiante: {estudiante['nombre']}, Promedio: {estudiante['promedio']:.2f}, Estado: {estudiante['estado']}\")\n"
   ]
  },
  {
   "cell_type": "code",
   "execution_count": 15,
   "metadata": {},
   "outputs": [
    {
     "name": "stdout",
     "output_type": "stream",
     "text": [
      "Entrada no válida. Debe ingresar un número.\n",
      "\n",
      "Resumen de Calificaciones:\n",
      "Estudiante: Andrés, Promedio: 6.67, Estado: Aprobado\n",
      "Estudiante: Mario, Promedio: 7.33, Estado: Aprobado\n",
      "Estudiante: José, Promedio: 4.67, Estado: Reprobado\n",
      "Estudiante: Diego, Promedio: 3.67, Estado: Reprobado\n",
      "Estudiante: Anne, Promedio: 7.67, Estado: Aprobado\n"
     ]
    }
   ],
   "source": [
    "#Se crea el proceso/funcionamiento que llevará a cabo el sistema\n",
    "\n",
    "num_estudiantes = obtener_numero_estudiantes() # Obtiene el número total de estudiantes\n",
    "estudiantes = [] # Se define la Lista que almacenará los datos de los estudiantes\n",
    "\n",
    "# Bucle para procesar los datos de cada estudiante\n",
    "for _ in range(num_estudiantes):\n",
    "    nombre = obtener_nombre_estudiante()  # Obtiene el nombre del estudiante\n",
    "    num_asignaturas = obtener_numero_asignaturas()  # Obtiene el número de asignaturas\n",
    "    calificaciones = obtener_calificaciones(num_asignaturas)  # Obtiene las calificaciones\n",
    "    promedio = calcular_promedio(calificaciones)  # Calcula el promedio del estudiante\n",
    "    estado = determinar_estado(promedio)  # Determina si el estudiante ha aprobado o reprobado\n",
    "\n",
    "    # Agrega la información del estudiante a la lista de estudiantes\n",
    "    estudiantes.append({\n",
    "        'nombre': nombre,\n",
    "        'promedio': promedio,\n",
    "        'estado': estado\n",
    "    })\n",
    "\n",
    "# Imprime el resumen final de todos los estudiantes\n",
    "imprimir_resumen(estudiantes)\n",
    "\n",
    "\n"
   ]
  }
 ],
 "metadata": {
  "kernelspec": {
   "display_name": "Python 3",
   "language": "python",
   "name": "python3"
  },
  "language_info": {
   "codemirror_mode": {
    "name": "ipython",
    "version": 3
   },
   "file_extension": ".py",
   "mimetype": "text/x-python",
   "name": "python",
   "nbconvert_exporter": "python",
   "pygments_lexer": "ipython3",
   "version": "3.12.6"
  }
 },
 "nbformat": 4,
 "nbformat_minor": 2
}
