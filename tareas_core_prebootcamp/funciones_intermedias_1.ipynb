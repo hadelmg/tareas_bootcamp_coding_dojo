{
 "cells": [
  {
   "cell_type": "markdown",
   "metadata": {},
   "source": [
    "# Funciones intermedias (Core)\n",
    "\n",
    "* Crea el archivo un Python llamado funciones_intermedias_1.py\n",
    "* Actualiza los valores en diccionarios y listas\n",
    "* Crea la función iterarDiccionario(lista)\n",
    "* Crea la función iterarDiccionario2(llave, lista)\n",
    "* Crea la función imprimirInformacion(diccionario)\n",
    "\n",
    "Nota: Te recomendamos tener en cuenta que por temas de seguridad el sistema no permite carga de archivos .py directamente, por lo tanto, te sugerimos agregar el link de GitHub con la tarea o si deseas adjuntar el archivo comprimido. "
   ]
  },
  {
   "cell_type": "markdown",
   "metadata": {},
   "source": [
    "## 1. Actualizar valores en diccionarios y listas"
   ]
  },
  {
   "cell_type": "code",
   "execution_count": 22,
   "metadata": {},
   "outputs": [],
   "source": [
    "matriz = [ [10, 15, 20], [3, 7, 14] ]\n",
    "cantantes = [\n",
    "    {\"nombre\": \"Ricky Martin\", \"pais\": \"Puerto Rico\"},\n",
    "    {\"nombre\": \"Chayanne\", \"pais\": \"Puerto Rico\"}\n",
    "]\n",
    "\n",
    "ciudades = {\n",
    "    \"México\": [\"Ciudad de México\", \"Guadalajara\", \"Cancún\"],\n",
    "    \"Chile\": [\"Santiago\", \"Concepción\", \"Viña del Mar\"]\n",
    "}\n",
    "\n",
    "coordenadas = [\n",
    "    {\"latitud\": 8.2588997, \"longitud\": -84.9399704}\n",
    "]"
   ]
  },
  {
   "cell_type": "markdown",
   "metadata": {},
   "source": [
    "* Cambia el valor de 3 en matriz por 6. Una vez realizado el cambio tu matriz debería ser: [ [10, 15, 20], [6, 7, 14] ]\n",
    "* Cambia el nombre del primer cantante de “Ricky Martin” a “Enrique Martin Morales”\n",
    "* En ciudades, cambia “Cancún” por “Monterrey”\n",
    "* En las coordenadas, cambia el valor de “latitud” por 9.9355431"
   ]
  },
  {
   "cell_type": "code",
   "execution_count": 23,
   "metadata": {},
   "outputs": [
    {
     "name": "stdout",
     "output_type": "stream",
     "text": [
      "Lista 'Matriz' actualizada: [[10, 15, 20], [6, 7, 14]]\n",
      "Diccionario 'Cantantes' actualizada: [{'nombre': 'Enrique Martin Morales', 'pais': 'Puerto Rico'}, {'nombre': 'Chayanne', 'pais': 'Puerto Rico'}]\n",
      "Diccionario 'Ciudades' actualizada: {'México': ['Ciudad de México', 'Guadalajara', 'Monterrey'], 'Chile': ['Santiago', 'Concepción', 'Viña del Mar']}\n",
      "Diccionario 'Coordenadas' actualizada: [{'latitud': 9.9355431, 'longitud': -84.9399704}]\n"
     ]
    }
   ],
   "source": [
    "# 1. Cambiar el valor de 3 en matriz por 6\n",
    "matriz[1][0] = 6  # Cambia 3 por 6\n",
    "print(\"Lista 'Matriz' actualizada:\", matriz)\n",
    "\n",
    "# 2. Cambiar el nombre del primer cantante\n",
    "cantantes[0][\"nombre\"] = \"Enrique Martin Morales\"  # Cambia el nombre del primer cantante\n",
    "print(\"Diccionario 'Cantantes' actualizada:\", cantantes)\n",
    "\n",
    "# 3. Cambiar \"Cancún\" por \"Monterrey\" en ciudades\n",
    "ciudades[\"México\"][2] = \"Monterrey\"  # Cambia Cancún por Monterrey\n",
    "print(\"Diccionario 'Ciudades' actualizada:\", ciudades)\n",
    "\n",
    "# 4. Cambiar el valor de \"latitud\" en coordenadas\n",
    "coordenadas[0][\"latitud\"] = 9.9355431  # Cambia la latitud\n",
    "print(\"Diccionario 'Coordenadas' actualizada:\", coordenadas)"
   ]
  },
  {
   "cell_type": "markdown",
   "metadata": {},
   "source": [
    "## 2. Iterar a través de una lista de diccionarios"
   ]
  },
  {
   "cell_type": "markdown",
   "metadata": {},
   "source": [
    "* Crea la función iterarDiccionario(lista) que reciba una lista de diccionarios y recorra cada diccionario de la lista e imprima cada llave y el valor correspondiente. Por ejemplo:\n",
    "\n",
    "cantantes = [\n",
    "    {\"nombre\": \"Ricky Martin\", \"pais\": \"Puerto Rico\"},\n",
    "    {\"nombre\": \"Chayanne\", \"pais\": \"Puerto Rico\"},\n",
    "    {\"nombre\": \"José José\", \"pais\": \"México\"},\n",
    "    {\"nombre\": \"Juan Luis Guerra\", \"pais\": \"República Dominicana\"}\n",
    "]\n",
    "\n",
    "iterarDiccionario(cantantes)\n",
    "#Imprime \"nombre\": \"Ricky Martin\", \"pais\": \"Puerto Rico\" (está bien si lo imprime en líneas separadas)\n",
    "\n",
    "#BONUS: Que aparezcan en este formato:\n",
    "nombre - Ricky Martin, pais - Puerto Rico\n",
    "nombre - Chayanne, pais - Puerto Rico\n",
    "nombre - José José, pais - México\n",
    "nombre - Juan Luis Guerra, pais - República Dominicana"
   ]
  },
  {
   "cell_type": "code",
   "execution_count": 24,
   "metadata": {},
   "outputs": [
    {
     "name": "stdout",
     "output_type": "stream",
     "text": [
      "nombre - Ricky Martin, pais - Puerto Rico\n",
      "nombre - Chayanne, pais - Puerto Rico\n",
      "nombre - José José, pais - México\n",
      "nombre - Juan Luis Guerra, pais - República Dominicana\n"
     ]
    }
   ],
   "source": [
    "def iterarDiccionario(lista):\n",
    "    for diccionario in lista:\n",
    "        # Crea una lista de pares clave-valor en el formato requerido\n",
    "        salida = [f\"{llave} - {valor}\" for llave, valor in diccionario.items()]\n",
    "        # Une los pares con una coma\n",
    "        print(\", \".join(salida))\n",
    "\n",
    "# Ejemplo de uso\n",
    "cantantes = [\n",
    "    {\"nombre\": \"Ricky Martin\", \"pais\": \"Puerto Rico\"},\n",
    "    {\"nombre\": \"Chayanne\", \"pais\": \"Puerto Rico\"},\n",
    "    {\"nombre\": \"José José\", \"pais\": \"México\"},\n",
    "    {\"nombre\": \"Juan Luis Guerra\", \"pais\": \"República Dominicana\"}\n",
    "]\n",
    "\n",
    "iterarDiccionario(cantantes)"
   ]
  },
  {
   "cell_type": "markdown",
   "metadata": {},
   "source": [
    "## 3. Obtener valores de una lista de diccionarios\n",
    "\n",
    "* Crea la función iterarDiccionario2(llave, lista) que reciba una cadena con el nombre de una llave y una lista de diccionarios. La función debe imprimir el valor almacenado para esa clave de cada diccionario que se encuentra en la lista. Por ejemplo, iterarDiccionario2(“nombre”, cantantes) debe de imprimir:\n",
    "\n",
    "Ricky Martin\n",
    "Chayanne\n",
    "José José\n",
    "Juan Luis Guerra\n",
    "Otro ejemplo: iterarDiccionario2(“pais”, cantantes) debe de imprimir:\n",
    "\n",
    "Puerto Rico\n",
    "Puerto Rico\n",
    "México\n",
    "República Dominicana\n"
   ]
  },
  {
   "cell_type": "code",
   "execution_count": 25,
   "metadata": {},
   "outputs": [
    {
     "name": "stdout",
     "output_type": "stream",
     "text": [
      "Nombres:\n",
      "Ricky Martin\n",
      "Chayanne\n",
      "José José\n",
      "Juan Luis Guerra\n",
      "\n",
      "Países:\n",
      "Puerto Rico\n",
      "Puerto Rico\n",
      "México\n",
      "República Dominicana\n"
     ]
    }
   ],
   "source": [
    "def iterarDiccionario2(llave, lista):\n",
    "    for diccionario in lista:\n",
    "        if llave in diccionario:\n",
    "            print(diccionario[llave])\n",
    "\n",
    "# Ejemplo de uso\n",
    "cantantes = [\n",
    "    {\"nombre\": \"Ricky Martin\", \"pais\": \"Puerto Rico\"},\n",
    "    {\"nombre\": \"Chayanne\", \"pais\": \"Puerto Rico\"},\n",
    "    {\"nombre\": \"José José\", \"pais\": \"México\"},\n",
    "    {\"nombre\": \"Juan Luis Guerra\", \"pais\": \"República Dominicana\"}\n",
    "]\n",
    "\n",
    "# Llamadas de ejemplo\n",
    "print(\"Nombres:\")\n",
    "iterarDiccionario2(\"nombre\", cantantes)\n",
    "\n",
    "print(\"\\nPaíses:\")\n",
    "iterarDiccionario2(\"pais\", cantantes)\n"
   ]
  },
  {
   "cell_type": "markdown",
   "metadata": {},
   "source": [
    "## 4. Iterar a través de un diccionario con valores de lista\n",
    "\n",
    "* Crea una función imprimirInformacion(diccionario) que reciba un diccionario en donde los valores son listas. La función debe imprimir el nombre de cada clave junto con el tamaño de su lista y seguido de esto los valores de la lista para esa clave. Por ejemplo:\n",
    "\n",
    "costa_rica = {\n",
    "    \"ciudades\": [\"San José\", \"Limón\", \"Cartago\", \"Puntarenas\"],\n",
    "    \"comidas\": [\"gallo pinto\", \"casado\", \"tamales\", \"chifrijo\", \"olla de carne\"]\n",
    "}\n",
    "\n",
    "#imprime:\n",
    "4 CIUDADES\n",
    "San José\n",
    "Limón\n",
    "Cartago\n",
    "Puntarenas\n",
    "\n",
    "5 COMIDAS\n",
    "gallo pinto\n",
    "casado\n",
    "tamales\n",
    "chifrijo\n",
    "olla de carne"
   ]
  },
  {
   "cell_type": "code",
   "execution_count": 26,
   "metadata": {},
   "outputs": [
    {
     "name": "stdout",
     "output_type": "stream",
     "text": [
      "4 CIUDADES\n",
      "San José\n",
      "Limón\n",
      "Cartago\n",
      "Puntarenas\n",
      "\n",
      "5 COMIDAS\n",
      "gallo pinto\n",
      "casado\n",
      "tamales\n",
      "chifrijo\n",
      "olla de carne\n",
      "\n"
     ]
    }
   ],
   "source": [
    "def imprimirInformacion(diccionario):\n",
    "    for clave, lista in diccionario.items():\n",
    "        # Imprimir el tamaño de la lista y el nombre de la clave en mayúsculas\n",
    "        print(f\"{len(lista)} {clave.upper()}\")\n",
    "        # Imprimir los valores de la lista\n",
    "        for valor in lista:\n",
    "            print(valor)\n",
    "        # Imprimir una línea en blanco para mayor claridad\n",
    "        print()\n",
    "\n",
    "# Ejemplo de uso\n",
    "costa_rica = {\n",
    "    \"ciudades\": [\"San José\", \"Limón\", \"Cartago\", \"Puntarenas\"],\n",
    "    \"comidas\": [\"gallo pinto\", \"casado\", \"tamales\", \"chifrijo\", \"olla de carne\"]\n",
    "}\n",
    "\n",
    "imprimirInformacion(costa_rica)"
   ]
  }
 ],
 "metadata": {
  "kernelspec": {
   "display_name": "Python 3",
   "language": "python",
   "name": "python3"
  },
  "language_info": {
   "codemirror_mode": {
    "name": "ipython",
    "version": 3
   },
   "file_extension": ".py",
   "mimetype": "text/x-python",
   "name": "python",
   "nbconvert_exporter": "python",
   "pygments_lexer": "ipython3",
   "version": "3.12.6"
  }
 },
 "nbformat": 4,
 "nbformat_minor": 2
}
