{
 "cells": [
  {
   "cell_type": "markdown",
   "metadata": {},
   "source": [
    "# Ejercicio de Regresión 1 (Core)\n",
    "\n",
    "\n",
    "### Objetivo\n",
    "\n",
    "Aplicar los conceptos de regresión lineal para resolver un problema práctico utilizando Python.\n",
    "\n",
    "### Descripción del problema: \n",
    "\n",
    "Supongamos que trabajas en una empresa que desea predecir el precio de venta de casas en función de varias características. Tienes un conjunto de datos con información sobre las casas, incluyendo el tamaño de la casa (en pies cuadrados), el número de habitaciones, el número de baños y la antigüedad de la casa (en años). Tu tarea es construir un modelo de regresión lineal que pueda predecir el precio de venta de una casa dada.\n",
    "\n",
    "### Instrucciones:\n",
    "\n",
    "1. **Carga de datos:** Descarga el archivo de datos house_prices.csv que contiene las siguientes columnas:\n",
    "   * SqFt: Tamaño de la casa en pies cuadrados.\n",
    "   * Bedrooms: Número de habitaciones.\n",
    "   * Bathrooms: Número de baños.\n",
    "   * price: Precio de venta de la casa.\n",
    "2. **Exploración de datos:** Realiza un análisis exploratorio de los datos para entender su estructura \n",
    "   y detectar posibles problemas como valores nulos o outliers.\n",
    "3. **Preparación de datos:** Divide los datos en un conjunto de entrenamiento (80%) y un conjunto de prueba (20%).\n",
    "4. **Entrenamiento del modelo:** Entrena un modelo de regresión lineal utilizando los datos de entrenamiento.\n",
    "5. **Evaluación del modelo:** Evalúa el modelo utilizando el conjunto de prueba. Calcula el error cuadrático \n",
    "   medio (MSE) y el R-cuadrado (R²) del modelo.\n",
    "6. **Predicción:** Usa el modelo entrenado para predecir el precio de una casa con las siguientes características:\n",
    "   * Tamaño: 2000 pies cuadrados\n",
    "   * Habitaciones: 3\n",
    "   * Baños: 2"
   ]
  },
  {
   "cell_type": "markdown",
   "metadata": {},
   "source": [
    "### 1. **Carga de datos:** \n",
    "Descarga el archivo de datos house_prices.csv que contiene las siguientes columnas:\n",
    "   * SqFt: Tamaño de la casa en pies cuadrados.\n",
    "   * Bedrooms: Número de habitaciones.\n",
    "   * Bathrooms: Número de baños.\n",
    "   * price: Precio de venta de la casa."
   ]
  },
  {
   "cell_type": "code",
   "execution_count": 1,
   "metadata": {},
   "outputs": [],
   "source": [
    "import numpy as np\n",
    "import pandas as pd\n",
    "import matplotlib.pyplot as plt\n",
    "import seaborn as sns\n",
    "from sklearn.linear_model import LinearRegression\n",
    "from sklearn.model_selection import train_test_split\n",
    "#from sklearn.preprocessing import MinMaxScaler\n",
    "#from sklearn.metrics import mean_absolute_error, mean_squared_error, r2_score"
   ]
  },
  {
   "cell_type": "code",
   "execution_count": 2,
   "metadata": {},
   "outputs": [
    {
     "data": {
      "text/html": [
       "<div>\n",
       "<style scoped>\n",
       "    .dataframe tbody tr th:only-of-type {\n",
       "        vertical-align: middle;\n",
       "    }\n",
       "\n",
       "    .dataframe tbody tr th {\n",
       "        vertical-align: top;\n",
       "    }\n",
       "\n",
       "    .dataframe thead th {\n",
       "        text-align: right;\n",
       "    }\n",
       "</style>\n",
       "<table border=\"1\" class=\"dataframe\">\n",
       "  <thead>\n",
       "    <tr style=\"text-align: right;\">\n",
       "      <th></th>\n",
       "      <th>Home</th>\n",
       "      <th>Price</th>\n",
       "      <th>SqFt</th>\n",
       "      <th>Bedrooms</th>\n",
       "      <th>Bathrooms</th>\n",
       "      <th>Offers</th>\n",
       "      <th>Brick</th>\n",
       "      <th>Neighborhood</th>\n",
       "    </tr>\n",
       "  </thead>\n",
       "  <tbody>\n",
       "    <tr>\n",
       "      <th>0</th>\n",
       "      <td>1</td>\n",
       "      <td>114300</td>\n",
       "      <td>1790</td>\n",
       "      <td>2</td>\n",
       "      <td>2</td>\n",
       "      <td>2</td>\n",
       "      <td>No</td>\n",
       "      <td>East</td>\n",
       "    </tr>\n",
       "    <tr>\n",
       "      <th>1</th>\n",
       "      <td>2</td>\n",
       "      <td>114200</td>\n",
       "      <td>2030</td>\n",
       "      <td>4</td>\n",
       "      <td>2</td>\n",
       "      <td>3</td>\n",
       "      <td>No</td>\n",
       "      <td>East</td>\n",
       "    </tr>\n",
       "    <tr>\n",
       "      <th>2</th>\n",
       "      <td>3</td>\n",
       "      <td>114800</td>\n",
       "      <td>1740</td>\n",
       "      <td>3</td>\n",
       "      <td>2</td>\n",
       "      <td>1</td>\n",
       "      <td>No</td>\n",
       "      <td>East</td>\n",
       "    </tr>\n",
       "    <tr>\n",
       "      <th>3</th>\n",
       "      <td>4</td>\n",
       "      <td>94700</td>\n",
       "      <td>1980</td>\n",
       "      <td>3</td>\n",
       "      <td>2</td>\n",
       "      <td>3</td>\n",
       "      <td>No</td>\n",
       "      <td>East</td>\n",
       "    </tr>\n",
       "    <tr>\n",
       "      <th>4</th>\n",
       "      <td>5</td>\n",
       "      <td>119800</td>\n",
       "      <td>2130</td>\n",
       "      <td>3</td>\n",
       "      <td>3</td>\n",
       "      <td>3</td>\n",
       "      <td>No</td>\n",
       "      <td>East</td>\n",
       "    </tr>\n",
       "  </tbody>\n",
       "</table>\n",
       "</div>"
      ],
      "text/plain": [
       "   Home   Price  SqFt  Bedrooms  Bathrooms  Offers Brick Neighborhood\n",
       "0     1  114300  1790         2          2       2    No         East\n",
       "1     2  114200  2030         4          2       3    No         East\n",
       "2     3  114800  1740         3          2       1    No         East\n",
       "3     4   94700  1980         3          2       3    No         East\n",
       "4     5  119800  2130         3          3       3    No         East"
      ]
     },
     "execution_count": 2,
     "metadata": {},
     "output_type": "execute_result"
    }
   ],
   "source": [
    "# Cargar datos desde un archivo CSV\n",
    "df = pd.read_csv(r'C:\\Users\\GIGABYTE\\Documents\\tareas_bootcamp_coding_dojo\\mod_2_machine_learning\\ml_tareas_core_bootcamp\\1_ejercicio_de_regresion\\data\\house-prices.csv')\n",
    "df.head()"
   ]
  },
  {
   "cell_type": "markdown",
   "metadata": {},
   "source": [
    "### 2. **Exploración de datos:**\n",
    "Realiza un análisis exploratorio de los datos para entender su estructura y detectar posibles problemas como valores nulos o outliers.\n"
   ]
  },
  {
   "cell_type": "code",
   "execution_count": 3,
   "metadata": {},
   "outputs": [
    {
     "name": "stdout",
     "output_type": "stream",
     "text": [
      "<class 'pandas.core.frame.DataFrame'>\n",
      "RangeIndex: 128 entries, 0 to 127\n",
      "Data columns (total 8 columns):\n",
      " #   Column        Non-Null Count  Dtype \n",
      "---  ------        --------------  ----- \n",
      " 0   Home          128 non-null    int64 \n",
      " 1   Price         128 non-null    int64 \n",
      " 2   SqFt          128 non-null    int64 \n",
      " 3   Bedrooms      128 non-null    int64 \n",
      " 4   Bathrooms     128 non-null    int64 \n",
      " 5   Offers        128 non-null    int64 \n",
      " 6   Brick         128 non-null    object\n",
      " 7   Neighborhood  128 non-null    object\n",
      "dtypes: int64(6), object(2)\n",
      "memory usage: 8.1+ KB\n",
      "Index(['Home', 'Price', 'SqFt', 'Bedrooms', 'Bathrooms', 'Offers', 'Brick',\n",
      "       'Neighborhood'],\n",
      "      dtype='object')\n"
     ]
    }
   ],
   "source": [
    "df.info() # Verifica tipos de datos \n",
    "df.describe()  # Estadísticas descriptivas\n",
    "print(df.columns)"
   ]
  },
  {
   "cell_type": "code",
   "execution_count": 4,
   "metadata": {},
   "outputs": [
    {
     "name": "stdout",
     "output_type": "stream",
     "text": [
      "Home            [1, 2, 3, 4, 5, 6, 7, 8, 9, 10, 11, 12, 13, 14...\n",
      "Price           [114300, 114200, 114800, 94700, 119800, 114600...\n",
      "SqFt            [1790, 2030, 1740, 1980, 2130, 1780, 1830, 216...\n",
      "Bedrooms                                             [2, 4, 3, 5]\n",
      "Bathrooms                                               [2, 3, 4]\n",
      "Offers                                         [2, 3, 1, 4, 5, 6]\n",
      "Brick                                                   [No, Yes]\n",
      "Neighborhood                                  [East, North, West]\n",
      "dtype: object\n"
     ]
    }
   ],
   "source": [
    "# Obtener los valores únicos de todas las columnas\n",
    "unique_values = df.apply(lambda x: x.unique())\n",
    "\n",
    "# Mostrar los valores únicos\n",
    "print(unique_values)"
   ]
  },
  {
   "cell_type": "code",
   "execution_count": 5,
   "metadata": {},
   "outputs": [
    {
     "name": "stdout",
     "output_type": "stream",
     "text": [
      "<class 'pandas.core.frame.DataFrame'>\n",
      "RangeIndex: 128 entries, 0 to 127\n",
      "Data columns (total 8 columns):\n",
      " #   Column        Non-Null Count  Dtype   \n",
      "---  ------        --------------  -----   \n",
      " 0   Home          128 non-null    int64   \n",
      " 1   Price         128 non-null    int64   \n",
      " 2   SqFt          128 non-null    int64   \n",
      " 3   Bedrooms      128 non-null    int64   \n",
      " 4   Bathrooms     128 non-null    int64   \n",
      " 5   Offers        128 non-null    int64   \n",
      " 6   Brick         128 non-null    bool    \n",
      " 7   Neighborhood  128 non-null    category\n",
      "dtypes: bool(1), category(1), int64(6)\n",
      "memory usage: 6.5 KB\n"
     ]
    }
   ],
   "source": [
    "data_dict = {\n",
    "    'Home': 'int64', \n",
    "    'Price': 'int64', \n",
    "    'SqFt': 'int64', \n",
    "    'Bedrooms': 'int64',\n",
    "    'Bathrooms': 'int64',\n",
    "    'Offers': 'int64',\n",
    "    'Brick': 'bool',\n",
    "    'Neighborhood': 'category'\n",
    "}\n",
    "# Mapear los valores de la columna 'Brick'\n",
    "df['Brick'] = df['Brick'].map({'Yes': True, 'No': False})\n",
    "# Convertir tipos de datos según el diccionario\n",
    "for column, dtype in data_dict.items():\n",
    "    df[column] = df[column].astype(dtype, errors='ignore')\n",
    "df.info()\n",
    "\n"
   ]
  },
  {
   "cell_type": "code",
   "execution_count": 6,
   "metadata": {},
   "outputs": [
    {
     "name": "stdout",
     "output_type": "stream",
     "text": [
      "Home            [1, 2, 3, 4, 5, 6, 7, 8, 9, 10, 11, 12, 13, 14...\n",
      "Price           [114300, 114200, 114800, 94700, 119800, 114600...\n",
      "SqFt            [1790, 2030, 1740, 1980, 2130, 1780, 1830, 216...\n",
      "Bedrooms                                             [2, 4, 3, 5]\n",
      "Bathrooms                                               [2, 3, 4]\n",
      "Offers                                         [2, 3, 1, 4, 5, 6]\n",
      "Brick                                               [False, True]\n",
      "Neighborhood    ['East', 'North', 'West']\n",
      "Categories (3, objec...\n",
      "dtype: object\n"
     ]
    }
   ],
   "source": [
    "# Obtener los valores únicos de todas las columnas\n",
    "unique_values = df.apply(lambda x: x.unique())\n",
    "\n",
    "# Mostrar los valores únicos\n",
    "print(unique_values)\n"
   ]
  },
  {
   "cell_type": "code",
   "execution_count": 7,
   "metadata": {},
   "outputs": [
    {
     "data": {
      "image/png": "[encoded data removed]",
      "text/plain": [
       "<Figure size 1200x800 with 6 Axes>"
      ]
     },
     "metadata": {},
     "output_type": "display_data"
    }
   ],
   "source": [
    "# Crear una figura y una cuadrícula de subplots \n",
    "fig, axes = plt.subplots(2, 3, figsize=(12, 8))  # filas y columnas\n",
    "numerical_columns = ['Home', 'Price', 'SqFt', 'Bedrooms', 'Bathrooms', 'Offers']\n",
    "# Crear un boxplot para cada columna en la cuadrícula de subplots\n",
    "for i, column in enumerate(numerical_columns):\n",
    "    row = i // 3  # Fila de la cuadrícula\n",
    "    col = i % 3   # Columna de la cuadrícula\n",
    "    sns.boxplot(y=df[column], ax=axes[row, col], color='skyblue')  \n",
    "    axes[row, col].set_title(f'Boxplot de {column}')\n",
    "\n",
    "# Ajustar el diseño para evitar superposiciones\n",
    "plt.tight_layout()\n",
    "plt.show()"
   ]
  },
  {
   "cell_type": "code",
   "execution_count": 8,
   "metadata": {},
   "outputs": [
    {
     "data": {
      "image/png": "[encoded data removed]",
      "text/plain": [
       "<Figure size 1500x800 with 6 Axes>"
      ]
     },
     "metadata": {},
     "output_type": "display_data"
    }
   ],
   "source": [
    "# Crear una figura y una cuadrícula de subplots 2x3\n",
    "fig, axes = plt.subplots(2, 3, figsize=(15, 8))  # 2 filas y 3 columnas\n",
    "\n",
    "# Crear un gráfico para cada columna en la cuadrícula de subplots\n",
    "for i, column in enumerate(numerical_columns):\n",
    "    row = i // 3  # Fila de la cuadrícula\n",
    "    col = i % 3   # Columna de la cuadrícula\n",
    "    sns.histplot(df[column], bins=10, ax=axes[row, col], color='skyblue', edgecolor='black')\n",
    "    axes[row, col].set_title(column)\n",
    "\n",
    "# Ajustar el diseño para evitar superposiciones\n",
    "plt.tight_layout()\n",
    "plt.show()"
   ]
  },
  {
   "cell_type": "code",
   "execution_count": 9,
   "metadata": {},
   "outputs": [
    {
     "data": {
      "text/html": [
       "<div>\n",
       "<style scoped>\n",
       "    .dataframe tbody tr th:only-of-type {\n",
       "        vertical-align: middle;\n",
       "    }\n",
       "\n",
       "    .dataframe tbody tr th {\n",
       "        vertical-align: top;\n",
       "    }\n",
       "\n",
       "    .dataframe thead th {\n",
       "        text-align: right;\n",
       "    }\n",
       "</style>\n",
       "<table border=\"1\" class=\"dataframe\">\n",
       "  <thead>\n",
       "    <tr style=\"text-align: right;\">\n",
       "      <th></th>\n",
       "      <th>datos sin NAs en q</th>\n",
       "      <th>Na en q</th>\n",
       "      <th>Na en %</th>\n",
       "    </tr>\n",
       "  </thead>\n",
       "  <tbody>\n",
       "    <tr>\n",
       "      <th>Home</th>\n",
       "      <td>128</td>\n",
       "      <td>0</td>\n",
       "      <td>0.0</td>\n",
       "    </tr>\n",
       "    <tr>\n",
       "      <th>Price</th>\n",
       "      <td>128</td>\n",
       "      <td>0</td>\n",
       "      <td>0.0</td>\n",
       "    </tr>\n",
       "    <tr>\n",
       "      <th>SqFt</th>\n",
       "      <td>128</td>\n",
       "      <td>0</td>\n",
       "      <td>0.0</td>\n",
       "    </tr>\n",
       "    <tr>\n",
       "      <th>Bedrooms</th>\n",
       "      <td>128</td>\n",
       "      <td>0</td>\n",
       "      <td>0.0</td>\n",
       "    </tr>\n",
       "    <tr>\n",
       "      <th>Bathrooms</th>\n",
       "      <td>128</td>\n",
       "      <td>0</td>\n",
       "      <td>0.0</td>\n",
       "    </tr>\n",
       "    <tr>\n",
       "      <th>Offers</th>\n",
       "      <td>128</td>\n",
       "      <td>0</td>\n",
       "      <td>0.0</td>\n",
       "    </tr>\n",
       "    <tr>\n",
       "      <th>Brick</th>\n",
       "      <td>128</td>\n",
       "      <td>0</td>\n",
       "      <td>0.0</td>\n",
       "    </tr>\n",
       "    <tr>\n",
       "      <th>Neighborhood</th>\n",
       "      <td>128</td>\n",
       "      <td>0</td>\n",
       "      <td>0.0</td>\n",
       "    </tr>\n",
       "  </tbody>\n",
       "</table>\n",
       "</div>"
      ],
      "text/plain": [
       "              datos sin NAs en q  Na en q  Na en %\n",
       "Home                         128        0      0.0\n",
       "Price                        128        0      0.0\n",
       "SqFt                         128        0      0.0\n",
       "Bedrooms                     128        0      0.0\n",
       "Bathrooms                    128        0      0.0\n",
       "Offers                       128        0      0.0\n",
       "Brick                        128        0      0.0\n",
       "Neighborhood                 128        0      0.0"
      ]
     },
     "execution_count": 9,
     "metadata": {},
     "output_type": "execute_result"
    }
   ],
   "source": [
    "#Verificar Valores Nulos\n",
    "from utils import calculate_null\n",
    "calculate_null(df)"
   ]
  },
  {
   "cell_type": "code",
   "execution_count": 10,
   "metadata": {},
   "outputs": [
    {
     "data": {
      "text/html": [
       "<div>\n",
       "<style scoped>\n",
       "    .dataframe tbody tr th:only-of-type {\n",
       "        vertical-align: middle;\n",
       "    }\n",
       "\n",
       "    .dataframe tbody tr th {\n",
       "        vertical-align: top;\n",
       "    }\n",
       "\n",
       "    .dataframe thead th {\n",
       "        text-align: right;\n",
       "    }\n",
       "</style>\n",
       "<table border=\"1\" class=\"dataframe\">\n",
       "  <thead>\n",
       "    <tr style=\"text-align: right;\">\n",
       "      <th></th>\n",
       "      <th>Number of Outliers</th>\n",
       "      <th>Percentage of Outliers</th>\n",
       "      <th>Lower Bound</th>\n",
       "      <th>Upper Bound</th>\n",
       "    </tr>\n",
       "  </thead>\n",
       "  <tbody>\n",
       "    <tr>\n",
       "      <th>Home</th>\n",
       "      <td>0.0</td>\n",
       "      <td>0.00000</td>\n",
       "      <td>1.0</td>\n",
       "      <td>128.0</td>\n",
       "    </tr>\n",
       "    <tr>\n",
       "      <th>Price</th>\n",
       "      <td>1.0</td>\n",
       "      <td>0.78125</td>\n",
       "      <td>69100.0</td>\n",
       "      <td>199500.0</td>\n",
       "    </tr>\n",
       "    <tr>\n",
       "      <th>SqFt</th>\n",
       "      <td>2.0</td>\n",
       "      <td>1.56250</td>\n",
       "      <td>1520.0</td>\n",
       "      <td>2530.0</td>\n",
       "    </tr>\n",
       "    <tr>\n",
       "      <th>Bedrooms</th>\n",
       "      <td>61.0</td>\n",
       "      <td>47.65625</td>\n",
       "      <td>3.0</td>\n",
       "      <td>3.0</td>\n",
       "    </tr>\n",
       "    <tr>\n",
       "      <th>Bathrooms</th>\n",
       "      <td>0.0</td>\n",
       "      <td>0.00000</td>\n",
       "      <td>2.0</td>\n",
       "      <td>4.0</td>\n",
       "    </tr>\n",
       "    <tr>\n",
       "      <th>Offers</th>\n",
       "      <td>4.0</td>\n",
       "      <td>3.12500</td>\n",
       "      <td>1.0</td>\n",
       "      <td>4.0</td>\n",
       "    </tr>\n",
       "  </tbody>\n",
       "</table>\n",
       "</div>"
      ],
      "text/plain": [
       "           Number of Outliers  Percentage of Outliers  Lower Bound  \\\n",
       "Home                      0.0                 0.00000          1.0   \n",
       "Price                     1.0                 0.78125      69100.0   \n",
       "SqFt                      2.0                 1.56250       1520.0   \n",
       "Bedrooms                 61.0                47.65625          3.0   \n",
       "Bathrooms                 0.0                 0.00000          2.0   \n",
       "Offers                    4.0                 3.12500          1.0   \n",
       "\n",
       "           Upper Bound  \n",
       "Home             128.0  \n",
       "Price         199500.0  \n",
       "SqFt            2530.0  \n",
       "Bedrooms           3.0  \n",
       "Bathrooms          4.0  \n",
       "Offers             4.0  "
      ]
     },
     "execution_count": 10,
     "metadata": {},
     "output_type": "execute_result"
    }
   ],
   "source": [
    "#Importamos la función para detectar outliers por iqr\n",
    "from utils import detect_outliers_iqr \n",
    "# Identify numerical columns/Identificar columnas numéricas\n",
    "numerical_columns = df.select_dtypes(include=[np.number]).columns\n",
    "# Create a summary DataFrame for outliers/ Crear un Dataframe resumido de outliers\n",
    "outliers_summary = pd.DataFrame()\n",
    "for column in numerical_columns:\n",
    "    outliers = detect_outliers_iqr(df[column])\n",
    "    outliers_summary[column] = {\n",
    "        'Number of Outliers': outliers.sum(),\n",
    "        'Percentage of Outliers': 100 * outliers.mean(),\n",
    "        'Lower Bound': df[column][~outliers].min(),\n",
    "        'Upper Bound': df[column][~outliers].max()\n",
    "    }\n",
    "\n",
    "# Save the summary to a CSV file\n",
    "outliers_summary.T\n"
   ]
  },
  {
   "cell_type": "code",
   "execution_count": 11,
   "metadata": {},
   "outputs": [
    {
     "data": {
      "text/html": [
       "<div>\n",
       "<style scoped>\n",
       "    .dataframe tbody tr th:only-of-type {\n",
       "        vertical-align: middle;\n",
       "    }\n",
       "\n",
       "    .dataframe tbody tr th {\n",
       "        vertical-align: top;\n",
       "    }\n",
       "\n",
       "    .dataframe thead th {\n",
       "        text-align: right;\n",
       "    }\n",
       "</style>\n",
       "<table border=\"1\" class=\"dataframe\">\n",
       "  <thead>\n",
       "    <tr style=\"text-align: right;\">\n",
       "      <th></th>\n",
       "      <th>Home</th>\n",
       "      <th>Price</th>\n",
       "      <th>SqFt</th>\n",
       "      <th>Bedrooms</th>\n",
       "      <th>Bathrooms</th>\n",
       "      <th>Offers</th>\n",
       "    </tr>\n",
       "  </thead>\n",
       "  <tbody>\n",
       "    <tr>\n",
       "      <th>count</th>\n",
       "      <td>128.000000</td>\n",
       "      <td>128.000000</td>\n",
       "      <td>128.000000</td>\n",
       "      <td>128.000000</td>\n",
       "      <td>128.000000</td>\n",
       "      <td>128.000000</td>\n",
       "    </tr>\n",
       "    <tr>\n",
       "      <th>mean</th>\n",
       "      <td>64.500000</td>\n",
       "      <td>130427.343750</td>\n",
       "      <td>2000.937500</td>\n",
       "      <td>3.023438</td>\n",
       "      <td>2.445312</td>\n",
       "      <td>2.578125</td>\n",
       "    </tr>\n",
       "    <tr>\n",
       "      <th>std</th>\n",
       "      <td>37.094474</td>\n",
       "      <td>26868.770371</td>\n",
       "      <td>211.572431</td>\n",
       "      <td>0.725951</td>\n",
       "      <td>0.514492</td>\n",
       "      <td>1.069324</td>\n",
       "    </tr>\n",
       "    <tr>\n",
       "      <th>min</th>\n",
       "      <td>1.000000</td>\n",
       "      <td>69100.000000</td>\n",
       "      <td>1450.000000</td>\n",
       "      <td>2.000000</td>\n",
       "      <td>2.000000</td>\n",
       "      <td>1.000000</td>\n",
       "    </tr>\n",
       "    <tr>\n",
       "      <th>25%</th>\n",
       "      <td>32.750000</td>\n",
       "      <td>111325.000000</td>\n",
       "      <td>1880.000000</td>\n",
       "      <td>3.000000</td>\n",
       "      <td>2.000000</td>\n",
       "      <td>2.000000</td>\n",
       "    </tr>\n",
       "    <tr>\n",
       "      <th>50%</th>\n",
       "      <td>64.500000</td>\n",
       "      <td>125950.000000</td>\n",
       "      <td>2000.000000</td>\n",
       "      <td>3.000000</td>\n",
       "      <td>2.000000</td>\n",
       "      <td>3.000000</td>\n",
       "    </tr>\n",
       "    <tr>\n",
       "      <th>75%</th>\n",
       "      <td>96.250000</td>\n",
       "      <td>148250.000000</td>\n",
       "      <td>2140.000000</td>\n",
       "      <td>3.000000</td>\n",
       "      <td>3.000000</td>\n",
       "      <td>3.000000</td>\n",
       "    </tr>\n",
       "    <tr>\n",
       "      <th>max</th>\n",
       "      <td>128.000000</td>\n",
       "      <td>211200.000000</td>\n",
       "      <td>2590.000000</td>\n",
       "      <td>5.000000</td>\n",
       "      <td>4.000000</td>\n",
       "      <td>6.000000</td>\n",
       "    </tr>\n",
       "  </tbody>\n",
       "</table>\n",
       "</div>"
      ],
      "text/plain": [
       "             Home          Price         SqFt    Bedrooms   Bathrooms  \\\n",
       "count  128.000000     128.000000   128.000000  128.000000  128.000000   \n",
       "mean    64.500000  130427.343750  2000.937500    3.023438    2.445312   \n",
       "std     37.094474   26868.770371   211.572431    0.725951    0.514492   \n",
       "min      1.000000   69100.000000  1450.000000    2.000000    2.000000   \n",
       "25%     32.750000  111325.000000  1880.000000    3.000000    2.000000   \n",
       "50%     64.500000  125950.000000  2000.000000    3.000000    2.000000   \n",
       "75%     96.250000  148250.000000  2140.000000    3.000000    3.000000   \n",
       "max    128.000000  211200.000000  2590.000000    5.000000    4.000000   \n",
       "\n",
       "           Offers  \n",
       "count  128.000000  \n",
       "mean     2.578125  \n",
       "std      1.069324  \n",
       "min      1.000000  \n",
       "25%      2.000000  \n",
       "50%      3.000000  \n",
       "75%      3.000000  \n",
       "max      6.000000  "
      ]
     },
     "execution_count": 11,
     "metadata": {},
     "output_type": "execute_result"
    }
   ],
   "source": [
    "df[numerical_columns].describe()"
   ]
  },
  {
   "cell_type": "markdown",
   "metadata": {},
   "source": [
    "### 3. **Preparación de datos:** \n",
    "Divide los datos en un conjunto de entrenamiento (80%) y un conjunto de prueba (20%).\n"
   ]
  },
  {
   "cell_type": "code",
   "execution_count": 12,
   "metadata": {},
   "outputs": [],
   "source": [
    "import pandas as pd\n",
    "from sklearn.model_selection import train_test_split\n",
    "from sklearn.compose import ColumnTransformer\n",
    "from sklearn.pipeline import Pipeline\n",
    "from sklearn.impute import SimpleImputer\n",
    "from sklearn.preprocessing import OneHotEncoder, StandardScaler\n",
    "from sklearn.linear_model import LinearRegression\n",
    "from sklearn.metrics import mean_absolute_error, mean_squared_error, r2_score"
   ]
  },
  {
   "cell_type": "code",
   "execution_count": 13,
   "metadata": {},
   "outputs": [
    {
     "name": "stdout",
     "output_type": "stream",
     "text": [
      "Resultados en el conjunto de prueba:\n",
      "Error absoluto medio (MAE): 13306.498262821717\n",
      "Error cuadrático medio (MSE): 253234019.1735968\n",
      "Coeficiente de determinación (R²): 0.5703520599694544\n"
     ]
    }
   ],
   "source": [
    "# División en conjunto de entrenamiento y prueba (70-30)\n",
    "X = df[['SqFt', 'Bedrooms', 'Bathrooms','Offers']]  # Corregido para seleccionar múltiples columnas\n",
    "y = df['Price']\n",
    "\n",
    "# Dividir los datos en entrenamiento y prueba\n",
    "X_train, X_test, y_train, y_test = train_test_split(X, y, test_size=0.2, random_state=42)\n",
    "\n",
    "# Modelo de regresión lineal\n",
    "model = LinearRegression()\n",
    "model.fit(X_train, y_train)\n",
    "\n",
    "# Predicciones\n",
    "y_train_pred = model.predict(X_train)\n",
    "y_test_pred = model.predict(X_test)\n",
    "\n",
    "# Evaluación del modelo en conjunto de prueba\n",
    "from sklearn.metrics import mean_absolute_error, mean_squared_error, r2_score\n",
    "mae = mean_absolute_error(y_test, y_test_pred)\n",
    "mse = mean_squared_error(y_test, y_test_pred)\n",
    "r2 = r2_score(y_test, y_test_pred)\n",
    "\n",
    "print(\"Resultados en el conjunto de prueba:\")\n",
    "print(f\"Error absoluto medio (MAE): {mae}\")\n",
    "print(f\"Error cuadrático medio (MSE): {mse}\")\n",
    "print(f\"Coeficiente de determinación (R²): {r2}\")\n"
   ]
  },
  {
   "cell_type": "code",
   "execution_count": 14,
   "metadata": {},
   "outputs": [],
   "source": [
    "# Cargar tus datos (el DataFrame df ya lo tienes)\n",
    "X = df[['SqFt', 'Bedrooms', 'Bathrooms', 'Offers', 'Brick', 'Neighborhood']]\n",
    "y = df['Price']\n",
    "\n",
    "# Definir las columnas numéricas y categóricas\n",
    "numeric_features = ['SqFt', 'Bedrooms', 'Bathrooms', 'Offers', 'Brick']  # Brick es numérica\n",
    "categorical_features = ['Neighborhood']\n",
    "\n",
    "# Crear transformadores para cada subconjunto de columnas\n",
    "numeric_transformer = Pipeline(steps=[\n",
    "    ('imputer', SimpleImputer(strategy='mean')),  # Imputación de valores faltantes\n",
    "])\n",
    "\n",
    "categorical_transformer = Pipeline(steps=[\n",
    "    ('imputer', SimpleImputer(strategy='constant', fill_value='missing')),  # Imputación de valores faltantes\n",
    "    ('onehot', OneHotEncoder(handle_unknown='ignore'))  # One-Hot Encoding para variables categóricas\n",
    "])\n",
    "\n",
    "# Crear un ColumnTransformer para aplicar diferentes transformaciones a las columnas\n",
    "preprocessor = ColumnTransformer(transformers=[\n",
    "    ('num', numeric_transformer, numeric_features),\n",
    "    ('cat', categorical_transformer, categorical_features)\n",
    "])\n",
    "\n",
    "# Crear un Pipeline completo que incluye el preprocesador y el modelo\n",
    "pipeline = Pipeline(steps=[\n",
    "    ('preprocessor', preprocessor),\n",
    "    ('regressor', LinearRegression())  # Utilizamos regresión lineal para predecir el precio\n",
    "])\n",
    "\n",
    "# Dividir los datos en conjuntos de entrenamiento y prueba (80-20)\n",
    "X_train, X_test, y_train, y_test = train_test_split(X, y, test_size=0.2, random_state=42)\n",
    "\n",
    "\n",
    "\n"
   ]
  },
  {
   "cell_type": "markdown",
   "metadata": {},
   "source": [
    "### 4. **Entrenamiento del modelo:** \n",
    "Entrena un modelo de regresión lineal utilizando los datos de entrenamiento.\n"
   ]
  },
  {
   "cell_type": "code",
   "execution_count": 15,
   "metadata": {},
   "outputs": [],
   "source": [
    "\n",
    "# Ajustar el Pipeline a los datos de entrenamiento\n",
    "pipeline.fit(X_train, y_train)\n",
    "\n",
    "# Hacer predicciones utilizando el modelo ajustado\n",
    "y_pred = pipeline.predict(X_test)"
   ]
  },
  {
   "cell_type": "markdown",
   "metadata": {},
   "source": [
    "### 5. **Evaluación del modelo:** \n",
    "Evalúa el modelo utilizando el conjunto de prueba. Calcula el error cuadrático medio (MSE) y el R-cuadrado (R²) del modelo.\n"
   ]
  },
  {
   "cell_type": "code",
   "execution_count": 16,
   "metadata": {},
   "outputs": [
    {
     "name": "stdout",
     "output_type": "stream",
     "text": [
      "Resultados en el conjunto de prueba:\n",
      "Error absoluto medio (MAE): 8901.29\n",
      "Error cuadrático medio (MSE): 114170418.45\n",
      "Coeficiente de determinación (R²): 0.81\n"
     ]
    }
   ],
   "source": [
    "# Evaluación del modelo en el conjunto de prueba\n",
    "mae = mean_absolute_error(y_test, y_pred)\n",
    "mse = mean_squared_error(y_test, y_pred)\n",
    "r2 = r2_score(y_test, y_pred)\n",
    "\n",
    "# Mostrar los resultados\n",
    "print(\"Resultados en el conjunto de prueba:\")\n",
    "print(f\"Error absoluto medio (MAE): {mae:.2f}\")\n",
    "print(f\"Error cuadrático medio (MSE): {mse:.2f}\")\n",
    "print(f\"Coeficiente de determinación (R²): {r2:.2f}\")"
   ]
  },
  {
   "cell_type": "markdown",
   "metadata": {},
   "source": [
    "### 6. **Predicción:** \n",
    "Usa el modelo entrenado para predecir el precio de una casa con las siguientes características:\n",
    "   * Tamaño: 2000 pies cuadrados\n",
    "   * Habitaciones: 3\n",
    "   * Baños: 2"
   ]
  },
  {
   "cell_type": "code",
   "execution_count": 17,
   "metadata": {},
   "outputs": [
    {
     "name": "stdout",
     "output_type": "stream",
     "text": [
      "El precio estimado de la casa es: $161,301.08\n"
     ]
    }
   ],
   "source": [
    "# Características de la casa\n",
    "input_data = {\n",
    "    'SqFt': [2000],\n",
    "    'Bedrooms': [3],\n",
    "    'Bathrooms': [2],\n",
    "    'Offers': [0],  # Suponiendo que no hay oferta especial\n",
    "    'Brick': [1],   # Suponiendo que la casa es de ladrillo\n",
    "    'Neighborhood': ['Suburb']  # Asegúrate de que coincida con el nombre del vecindario en tu conjunto de datos\n",
    "}\n",
    "\n",
    "# Convertir las características a un DataFrame\n",
    "input_df = pd.DataFrame(input_data)\n",
    "\n",
    "# Realizar la predicción utilizando el pipeline ya entrenado\n",
    "predicted_price = pipeline.predict(input_df)\n",
    "\n",
    "# Mostrar el precio estimado\n",
    "print(f\"El precio estimado de la casa es: ${predicted_price[0]:,.2f}\")"
   ]
  }
 ],
 "metadata": {
  "kernelspec": {
   "display_name": "Python 3",
   "language": "python",
   "name": "python3"
  },
  "language_info": {
   "codemirror_mode": {
    "name": "ipython",
    "version": 3
   },
   "file_extension": ".py",
   "mimetype": "text/x-python",
   "name": "python",
   "nbconvert_exporter": "python",
   "pygments_lexer": "ipython3",
   "version": "3.12.6"
  }
 },
 "nbformat": 4,
 "nbformat_minor": 2
}
