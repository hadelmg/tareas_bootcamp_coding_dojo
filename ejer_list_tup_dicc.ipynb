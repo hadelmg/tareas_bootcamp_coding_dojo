{
 "cells": [
  {
   "cell_type": "markdown",
   "metadata": {},
   "source": [
    "# Ejercicios Listas, Tuplas y diccionarios (Core)"
   ]
  },
  {
   "cell_type": "markdown",
   "metadata": {},
   "source": [
    "Entrega: Presenta tus resultados en un archivo de texto o una hoja de cálculo. Detalla cada paso del análisis y los resultados obtenidos. Asegúrate de incluir:\n",
    "\n",
    "* La lista de ventas original.\n",
    "* Los ingresos totales generados.\n",
    "* El producto más vendido y su cantidad total vendida.\n",
    "* El precio promedio de venta por producto.\n",
    "* Los ingresos totales por día.\n",
    "* El resumen de ventas por producto."
   ]
  },
  {
   "cell_type": "markdown",
   "metadata": {},
   "source": [
    "## 1. Carga de Datos:\n",
    "* Crea una lista de diccionarios llamada ventas, donde cada diccionario represente una venta. Cada venta debe incluir las siguientes claves:\n",
    "    - «fecha»: una cadena de texto que represente la fecha de la venta (por ejemplo, «2024-01-01»).\n",
    "    - «producto»: una cadena de texto que represente el nombre del producto vendido.\n",
    "    - «cantidad»: un número entero que represente la cantidad de productos vendidos.\n",
    "    - «precio»: un número flotante que represente el precio unitario del producto.\n"
   ]
  },
  {
   "cell_type": "code",
   "execution_count": 33,
   "metadata": {},
   "outputs": [
    {
     "name": "stdout",
     "output_type": "stream",
     "text": [
      "fecha: 2024-01-01 - producto: Producto A - cantidad: 10 - precio: 5.0\n",
      "fecha: 2024-01-01 - producto: Producto B - cantidad: 5 - precio: 7.5\n",
      "fecha: 2024-01-02 - producto: Producto A - cantidad: 8 - precio: 5.0\n",
      "fecha: 2024-01-02 - producto: Producto C - cantidad: 3 - precio: 10.0\n",
      "fecha: 2024-01-03 - producto: Producto B - cantidad: 2 - precio: 8.0\n",
      "fecha: 2024-01-03 - producto: Producto B - cantidad: 2 - precio: 9.5\n",
      "fecha: 2024-01-03 - producto: Producto A - cantidad: 5 - precio: 6.0\n",
      "fecha: 2024-01-04 - producto: Producto C - cantidad: 6 - precio: 7.6\n",
      "fecha: 2024-01-04 - producto: Producto A - cantidad: 5 - precio: 5.2\n",
      "fecha: 2024-01-05 - producto: Producto C - cantidad: 2 - precio: 6.5\n",
      "fecha: 2024-01-05 - producto: Producto B - cantidad: 3 - precio: 5.5\n",
      "fecha: 2024-01-06 - producto: Producto C - cantidad: 2 - precio: 7.0\n"
     ]
    }
   ],
   "source": [
    "# Lista de ventas\n",
    "ventas = [\n",
    "    {'fecha': '2024-01-01', 'producto': 'Producto A', 'cantidad': 10, 'precio': 5.0},\n",
    "    {'fecha': '2024-01-01', 'producto': 'Producto B', 'cantidad': 5, 'precio': 7.5},\n",
    "    {'fecha': '2024-01-02', 'producto': 'Producto A', 'cantidad': 8, 'precio': 5.0},\n",
    "    {'fecha': '2024-01-02', 'producto': 'Producto C', 'cantidad': 3, 'precio': 10.0},\n",
    "    {'fecha': '2024-01-03', 'producto': 'Producto B', 'cantidad': 2, 'precio': 8.0},\n",
    "    {'fecha': '2024-01-03', 'producto': 'Producto B', 'cantidad': 2, 'precio': 9.5},\n",
    "    {'fecha': '2024-01-03', 'producto': 'Producto A', 'cantidad': 5, 'precio': 6.0},\n",
    "    {'fecha': '2024-01-04', 'producto': 'Producto C', 'cantidad': 6, 'precio': 7.6},\n",
    "    {'fecha': '2024-01-04', 'producto': 'Producto A', 'cantidad': 5, 'precio': 5.2},\n",
    "    {'fecha': '2024-01-05', 'producto': 'Producto C', 'cantidad': 2, 'precio': 6.5},\n",
    "    {'fecha': '2024-01-05', 'producto': 'Producto B', 'cantidad': 3, 'precio': 5.5},\n",
    "    {'fecha': '2024-01-06', 'producto': 'Producto C', 'cantidad': 2, 'precio': 7.0},\n",
    "]\n",
    "\n",
    "def iterarDiccionario(lista):\n",
    "    for diccionario in lista:\n",
    "        # Crea una lista de pares clave-valor en el formato requerido\n",
    "        salida = [f\"{llave}: {valor}\" for llave, valor in diccionario.items()]\n",
    "        # Une los pares con una coma\n",
    "        print(\" - \".join(salida))\n",
    "\n",
    "iterarDiccionario(ventas)\n"
   ]
  },
  {
   "cell_type": "markdown",
   "metadata": {},
   "source": [
    "## 2. Cálculo de Ingresos Totales:\n",
    "* Utiliza un bucle para iterar sobre la lista ventas y calcular los ingresos totales generados por todas las ventas. Los ingresos totales se calculan multiplicando la cantidad vendida por el precio unitario para cada venta y sumando los resultados."
   ]
  },
  {
   "cell_type": "code",
   "execution_count": 28,
   "metadata": {},
   "outputs": [
    {
     "name": "stdout",
     "output_type": "stream",
     "text": [
      "Ingresos totales: 337.6\n"
     ]
    }
   ],
   "source": [
    "ingresos_totales = 0\n",
    "for venta in ventas:\n",
    "    ingresos_totales += venta['cantidad'] * venta['precio']\n",
    "print(f\"Ingresos totales: {ingresos_totales}\")"
   ]
  },
  {
   "cell_type": "markdown",
   "metadata": {},
   "source": [
    "## 3. Análisis del Producto Más Vendido:\n",
    "* Crea un diccionario llamado ventas_por_producto donde las claves sean los nombres de los productos y los valores sean la cantidad total vendida de cada producto.\n",
    "* Utiliza este diccionario para identificar el producto que tuvo la mayor cantidad total vendida."
   ]
  },
  {
   "cell_type": "code",
   "execution_count": 29,
   "metadata": {},
   "outputs": [
    {
     "name": "stdout",
     "output_type": "stream",
     "text": [
      "Producto más vendido: Producto A (Cantidad: 28)\n"
     ]
    }
   ],
   "source": [
    "ventas_por_producto = {}\n",
    "for venta in ventas:\n",
    "    producto = venta['producto']\n",
    "    ventas_por_producto[producto] = ventas_por_producto.get(producto, 0) + venta['cantidad']\n",
    "\n",
    "producto_mas_vendido = max(ventas_por_producto, key=ventas_por_producto.get)\n",
    "cantidad_mas_vendida = ventas_por_producto[producto_mas_vendido]\n",
    "print(f\"Producto más vendido: {producto_mas_vendido} (Cantidad: {cantidad_mas_vendida})\")"
   ]
  },
  {
   "cell_type": "markdown",
   "metadata": {},
   "source": [
    "## 4. Promedio de Precio por Producto:\n",
    "* Crea un diccionario llamado precios_por_producto donde las claves sean los nombres de los productos y los valores sean tuplas. Cada tupla debe contener dos elementos: la suma de los precios de venta de todas las unidades vendidas y la cantidad total de unidades vendidas.\n",
    "* Calcula el precio promedio de venta para cada producto utilizando la información de este diccionario."
   ]
  },
  {
   "cell_type": "code",
   "execution_count": 30,
   "metadata": {},
   "outputs": [
    {
     "name": "stdout",
     "output_type": "stream",
     "text": [
      "Producto: Producto A, Precio promedio: 5.214285714285714\n",
      "Producto: Producto B, Precio promedio: 7.416666666666667\n",
      "Producto: Producto C, Precio promedio: 7.892307692307692\n"
     ]
    }
   ],
   "source": [
    "precios_por_producto = {}\n",
    "for venta in ventas:\n",
    "    producto = venta['producto']\n",
    "    if producto not in precios_por_producto:\n",
    "        precios_por_producto[producto] = (venta['precio'] * venta['cantidad'], venta['cantidad'])\n",
    "    else:\n",
    "        total_precio, total_cantidad = precios_por_producto[producto]\n",
    "        precios_por_producto[producto] = (total_precio + venta['precio'] * venta['cantidad'], total_cantidad + venta['cantidad'])\n",
    "\n",
    "for producto, (total_precio, total_cantidad) in precios_por_producto.items():\n",
    "    precio_promedio = total_precio / total_cantidad\n",
    "    print(f\"Producto: {producto}, Precio promedio: {precio_promedio}\")"
   ]
  },
  {
   "cell_type": "markdown",
   "metadata": {},
   "source": [
    "## 5. Ventas por Día:\n",
    "* Crea un diccionario llamado ingresos_por_dia donde las claves sean las fechas y los valores sean los ingresos totales generados en cada día.\n",
    "* Utiliza un bucle para calcular los ingresos totales por día y almacenar estos valores en el diccionario."
   ]
  },
  {
   "cell_type": "code",
   "execution_count": 31,
   "metadata": {},
   "outputs": [
    {
     "name": "stdout",
     "output_type": "stream",
     "text": [
      "Fecha: 2024-01-01, Ingresos: 87.5\n",
      "Fecha: 2024-01-02, Ingresos: 70.0\n",
      "Fecha: 2024-01-03, Ingresos: 65.0\n",
      "Fecha: 2024-01-04, Ingresos: 71.6\n",
      "Fecha: 2024-01-05, Ingresos: 29.5\n",
      "Fecha: 2024-01-06, Ingresos: 14.0\n"
     ]
    }
   ],
   "source": [
    "ingresos_por_dia = {}\n",
    "for venta in ventas:\n",
    "    fecha = venta['fecha']\n",
    "    ingreso = venta['cantidad'] * venta['precio']\n",
    "    ingresos_por_dia[fecha] = ingresos_por_dia.get(fecha, 0) + ingreso\n",
    "\n",
    "for fecha, ingreso in ingresos_por_dia.items():\n",
    "    print(f\"Fecha: {fecha}, Ingresos: {ingreso}\")"
   ]
  },
  {
   "cell_type": "markdown",
   "metadata": {},
   "source": [
    "## 6. Representación de Datos:\n",
    "* Crea un diccionario llamado resumen_ventas donde las claves sean los nombres de los productos y los valores sean diccionarios anidados. Cada diccionario anidado debe contener:\n",
    "    * «cantidad_total»: la cantidad total vendida del producto.\n",
    "    * «ingresos_totales»: los ingresos totales generados por la venta del producto.\n",
    "    * «precio_promedio»: el precio promedio de venta del producto.\n"
   ]
  },
  {
   "cell_type": "code",
   "execution_count": 32,
   "metadata": {},
   "outputs": [
    {
     "name": "stdout",
     "output_type": "stream",
     "text": [
      "\n",
      "Resumen de ventas:\n",
      "Producto: Producto A, Datos: {'cantidad_total': 28, 'ingresos_totales': 146.0, 'precio_promedio': 5.214285714285714}\n",
      "Producto: Producto B, Datos: {'cantidad_total': 12, 'ingresos_totales': 89.0, 'precio_promedio': 7.416666666666667}\n",
      "Producto: Producto C, Datos: {'cantidad_total': 13, 'ingresos_totales': 102.6, 'precio_promedio': 7.892307692307692}\n"
     ]
    }
   ],
   "source": [
    "resumen_ventas = {}\n",
    "for producto, total_cantidad in ventas_por_producto.items():\n",
    "    total_ingreso = precios_por_producto[producto][0]\n",
    "    precio_promedio = total_ingreso / total_cantidad\n",
    "    resumen_ventas[producto] = {\n",
    "        'cantidad_total': total_cantidad,\n",
    "        'ingresos_totales': total_ingreso,\n",
    "        'precio_promedio': precio_promedio\n",
    "    }\n",
    "\n",
    "print(\"\\nResumen de ventas:\")\n",
    "for producto, datos in resumen_ventas.items():\n",
    "    print(f\"Producto: {producto}, Datos: {datos}\")"
   ]
  }
 ],
 "metadata": {
  "kernelspec": {
   "display_name": "Python 3",
   "language": "python",
   "name": "python3"
  },
  "language_info": {
   "codemirror_mode": {
    "name": "ipython",
    "version": 3
   },
   "file_extension": ".py",
   "mimetype": "text/x-python",
   "name": "python",
   "nbconvert_exporter": "python",
   "pygments_lexer": "ipython3",
   "version": "3.12.6"
  }
 },
 "nbformat": 4,
 "nbformat_minor": 2
}
