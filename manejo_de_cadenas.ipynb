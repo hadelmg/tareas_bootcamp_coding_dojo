{
 "cells": [
  {
   "cell_type": "markdown",
   "metadata": {},
   "source": [
    "\n",
    "## 1. Ejercicio 1: Saludo Personalizado\n",
    "\n",
    "* Crea un programa que pida al usuario su nombre y edad, y luego imprima un saludo personalizado.\n",
    "* Usa input para capturar el nombre y la edad.\n",
    "* Usa print para mostrar el saludo."
   ]
  },
  {
   "cell_type": "code",
   "execution_count": 2,
   "metadata": {},
   "outputs": [
    {
     "name": "stdout",
     "output_type": "stream",
     "text": [
      "Hola Delcy, tienes 21 años.\n"
     ]
    }
   ],
   "source": [
    "# Solicitar nombre y edad al usuario\n",
    "nombre = input(\"Ingrese su nombre: \")\n",
    "try:\n",
    "    edad = int(input(\"Por favor, ingrese su edad: \"))\n",
    "    print(f\"Hola {nombre}, tienes {edad} años.\")\n",
    "except ValueError:\n",
    "    print(\"Por favor, ingresa un número válido.\")\n",
    "\n"
   ]
  },
  {
   "cell_type": "markdown",
   "metadata": {},
   "source": [
    "## 2. Ejercicio 2: Manipulación de Cadenas\n",
    "\n",
    "* Crea una cadena con tu nombre completo.\n",
    "* Usa los métodos de cadenas para:\n",
    "  * Convertir el nombre a mayúsculas y minúsculas.\n",
    "  * Contar el número de letras en tu nombre.\n",
    "  * Reemplazar tu primer nombre por otro nombre."
   ]
  },
  {
   "cell_type": "code",
   "execution_count": 3,
   "metadata": {},
   "outputs": [
    {
     "name": "stdout",
     "output_type": "stream",
     "text": [
      "Nombre en mayúsculas: DELCY HAYELEN MENDOZA GARAY\n",
      "Nombre en minúsculas: delcy hayelen mendoza garay\n",
      "Cantidad de letras (sin espacios): 24\n",
      "Nombre modificado: Anne Hayelen Mendoza Garay\n"
     ]
    }
   ],
   "source": [
    "# Se asigna el nombre completo\n",
    "nombre_completo = \"Delcy Hayelen Mendoza Garay\"\n",
    "\n",
    "nombre_mayusculas = nombre_completo.upper()  # mayúsculas\n",
    "nombre_minusculas = nombre_completo.lower()  # minúsculas\n",
    "\n",
    "# Contar el número de letras en el nombre (sin contar espacios)\n",
    "cantidad_letras = len(nombre_completo.replace(\" \", \"\"))\n",
    "\n",
    "# Reemplaza el primer nombre por otro\n",
    "nombre_modificado = nombre_completo.replace(\"Delcy\", \"Anne\")\n",
    "\n",
    "# Mostrar resultados\n",
    "print(f\"Nombre en mayúsculas: {nombre_mayusculas}\")\n",
    "print(f\"Nombre en minúsculas: {nombre_minusculas}\")\n",
    "print(f\"Cantidad de letras (sin espacios): {cantidad_letras}\")\n",
    "print(f\"Nombre modificado: {nombre_modificado}\")"
   ]
  },
  {
   "cell_type": "markdown",
   "metadata": {},
   "source": [
    "## 3. Ejercicio 3: Lista de Nombres\n",
    "\n",
    "* Pide al usuario que ingrese una lista de nombres separados por comas.\n",
    "* Usa split para convertir esta cadena en una lista de nombres.\n",
    "* Imprime cada nombre en una línea separada.\n"
   ]
  },
  {
   "cell_type": "code",
   "execution_count": 4,
   "metadata": {},
   "outputs": [
    {
     "name": "stdout",
     "output_type": "stream",
     "text": [
      "Ana\n",
      "María\n",
      "Julia\n",
      "Rosa\n",
      "Hanna\n",
      "Jazmín\n"
     ]
    }
   ],
   "source": [
    "nombres = input(\"Ingresa una lista de nombres separados por comas: \")\n",
    "\n",
    "# Convertir la cadena en una lista usando split\n",
    "lista_nombres = nombres.split(\",\")\n",
    "\n",
    "# Imprimir cada nombre en una línea separada\n",
    "for nombre in lista_nombres:\n",
    "    print(nombre.strip())  # strip para eliminar espacios"
   ]
  }
 ],
 "metadata": {
  "kernelspec": {
   "display_name": "Python 3",
   "language": "python",
   "name": "python3"
  },
  "language_info": {
   "codemirror_mode": {
    "name": "ipython",
    "version": 3
   },
   "file_extension": ".py",
   "mimetype": "text/x-python",
   "name": "python",
   "nbconvert_exporter": "python",
   "pygments_lexer": "ipython3",
   "version": "3.12.6"
  }
 },
 "nbformat": 4,
 "nbformat_minor": 2
}
