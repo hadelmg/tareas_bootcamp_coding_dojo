{
 "cells": [
  {
   "cell_type": "markdown",
   "metadata": {},
   "source": [
    "# Funciones intermedias (Core)\n",
    "\n",
    "* Crea el archivo un Python llamado funciones_intermedias_1.py\n",
    "* Actualiza los valores en diccionarios y listas\n",
    "* Crea la función iterarDiccionario(lista)\n",
    "* Crea la función iterarDiccionario2(llave, lista)\n",
    "* Crea la función imprimirInformacion(diccionario)\n",
    "\n",
    "Nota: Te recomendamos tener en cuenta que por temas de seguridad el sistema no permite carga de archivos .py directamente, por lo tanto, te sugerimos agregar el link de GitHub con la tarea o si deseas adjuntar el archivo comprimido. "
   ]
  },
  {
   "cell_type": "markdown",
   "metadata": {},
   "source": [
    "### 1. Actualizar valores en diccionarios y listas"
   ]
  },
  {
   "cell_type": "code",
   "execution_count": 12,
   "metadata": {},
   "outputs": [],
   "source": [
    "matriz = [ [10, 15, 20], [3, 7, 14] ]\n",
    "cantantes = [\n",
    "    {\"nombre\": \"Ricky Martin\", \"pais\": \"Puerto Rico\"},\n",
    "    {\"nombre\": \"Chayanne\", \"pais\": \"Puerto Rico\"}\n",
    "]\n",
    "\n",
    "ciudades = {\n",
    "    \"México\": [\"Ciudad de México\", \"Guadalajara\", \"Cancún\"],\n",
    "    \"Chile\": [\"Santiago\", \"Concepción\", \"Viña del Mar\"]\n",
    "}\n",
    "\n",
    "coordenadas = [\n",
    "    {\"latitud\": 8.2588997, \"longitud\": -84.9399704}\n",
    "]"
   ]
  },
  {
   "cell_type": "markdown",
   "metadata": {},
   "source": [
    "* Cambia el valor de 3 en matriz por 6. Una vez realizado el cambio tu matriz debería ser: [ [10, 15, 20], [6, 7, 14] ]\n",
    "* Cambia el nombre del primer cantante de “Ricky Martin” a “Enrique Martin Morales”\n",
    "* En ciudades, cambia “Cancún” por “Monterrey”\n",
    "* En las coordenadas, cambia el valor de “latitud” por 9.9355431"
   ]
  },
  {
   "cell_type": "code",
   "execution_count": 13,
   "metadata": {},
   "outputs": [
    {
     "name": "stdout",
     "output_type": "stream",
     "text": [
      "Lista 'Matriz' actualizada: [[10, 15, 20], [6, 7, 14]]\n",
      "Diccionario 'Cantantes' actualizada: [{'nombre': 'Enrique Martin Morales', 'pais': 'Puerto Rico'}, {'nombre': 'Chayanne', 'pais': 'Puerto Rico'}]\n",
      "Diccionario 'Ciudades' actualizada: {'México': ['Ciudad de México', 'Guadalajara', 'Monterrey'], 'Chile': ['Santiago', 'Concepción', 'Viña del Mar']}\n",
      "Diccionario 'Coordenadas' actualizada: [{'latitud': 9.9355431, 'longitud': -84.9399704}]\n"
     ]
    }
   ],
   "source": [
    "# 1. Cambiar el valor de 3 en matriz por 6\n",
    "matriz[1][0] = 6  # Cambia 3 por 6\n",
    "print(\"Lista 'Matriz' actualizada:\", matriz)\n",
    "\n",
    "# 2. Cambiar el nombre del primer cantante\n",
    "cantantes[0][\"nombre\"] = \"Enrique Martin Morales\"  # Cambia el nombre del primer cantante\n",
    "print(\"Diccionario 'Cantantes' actualizada:\", cantantes)\n",
    "\n",
    "# 3. Cambiar \"Cancún\" por \"Monterrey\" en ciudades\n",
    "ciudades[\"México\"][2] = \"Monterrey\"  # Cambia Cancún por Monterrey\n",
    "print(\"Diccionario 'Ciudades' actualizada:\", ciudades)\n",
    "\n",
    "# 4. Cambiar el valor de \"latitud\" en coordenadas\n",
    "coordenadas[0][\"latitud\"] = 9.9355431  # Cambia la latitud\n",
    "print(\"Diccionario 'Coordenadas' actualizada:\", coordenadas)"
   ]
  }
 ],
 "metadata": {
  "kernelspec": {
   "display_name": "Python 3",
   "language": "python",
   "name": "python3"
  },
  "language_info": {
   "codemirror_mode": {
    "name": "ipython",
    "version": 3
   },
   "file_extension": ".py",
   "mimetype": "text/x-python",
   "name": "python",
   "nbconvert_exporter": "python",
   "pygments_lexer": "ipython3",
   "version": "3.12.6"
  }
 },
 "nbformat": 4,
 "nbformat_minor": 2
}
